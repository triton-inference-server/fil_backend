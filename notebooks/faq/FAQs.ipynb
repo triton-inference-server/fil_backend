{
 "cells": [
  {
   "cell_type": "markdown",
   "id": "e720418d",
   "metadata": {},
   "source": [
    "# The FIL Backend for Triton: FAQs and Advanced Features\n",
    "\n",
    "## Introduction\n",
    "\n",
    "This example notebook focuses on the technical details of deploying tree-based models with the FIL Backend for Triton. It is organized as a series of FAQs followed by example code providing a practical illustration of the corresponding FAQ section.\n",
    "\n",
    "The goal of this notebook is to offer information that goes beyond the basics and provide answers to practical questions that may arise when attempting a real-world deployment with the FIL backend. If you are a complete newcomer to the FIL backend and are looking for a short introduction to the basics of what the FIL backend is and how to use it, you are encouraged to check out [this introductory notebook](https://github.com/triton-inference-server/fil_backend/blob/main/notebooks/categorical-fraud-detection/Fraud_Detection_Example.ipynb).\n",
    "\n",
    "While we do provide training code for example models, training models is *not* the subject of this notebook, and we will provide little detail on training. Instead, you are encouraged to use your own model(s) and data with this notebook to get a realistic picture of how your model will perform with Triton."
   ]
  },
  {
   "cell_type": "markdown",
   "id": "e9ad97cc",
   "metadata": {},
   "source": [
    "\n",
    "# Table of Contents\n",
    "* [Introduction](#Introduction)\n",
    "* [Table of Contents](#Table-of-Contents)\n",
    "* [Hardware Pre-requisites](#Hardware-Pre-Requisites)\n",
    "* [Software Pre-requisites](#Software-Pre-Requisites)\n",
    "* [FAQ 1: What can I deploy with the FIL Backend?](#FAQ-1:-What-can-I-deploy-with-the-FIL-backend?)\n",
    "    - [FAQ 1.1 Can I deploy non-tree Scikit-Learn models like LinearRegression?](#FAQ-1.1-Can-I-deploy-non-tree-Scikit-Learn-models-like-LinearRegression?)\n",
    "    - [FAQ 1.2 Can I deploy Scikit-Learn/cuML Pipelines with the FIL backend?](#FAQ-1.2-Can-I-deploy-Scikit-Learn/cuML-Pipelines-with-the-FIL-backend?)\n",
    "    - [FAQ 1.3 Can I deploy Scikit-Learn/cuML models serialized with Pickle?](#FAQ-1.3-Can-I-deploy-Scikit-Learn/cuML-models-serialized-with-Pickle?)\n",
    "    - [FAQ 1.4 Can I deploy Scikit-Learn/cuML models serialized with Joblib?](#FAQ-1.4-Can-I-deploy-Scikit-Learn/cuML-models-serialized-with-Joblib?)\n",
    "* [Example 1: Model Serialization](#Example-1:-Model-Serialization)\n",
    "    - [Example 1.1: Serializing an XGBoost model](#Example-1.1:-Serializing-an-XGBoost-model)\n",
    "    - [Example 1.2 Serializing a LightGBM model](#Example-1.2-Serializing-a-LightGBM-model)\n",
    "    - [Example 1.3 Serializing an in-memory Scikit-Learn model](#Example-1.3-Serializing-an-in-memory-Scikit-Learn-model)\n",
    "    - [Example 1.4 Serializing an in-memory cuML model](#Example-1.4-Serializing-an-in-memory-cuML-model)\n",
    "    - [Example 1.5 Converting a pickled Scikit-Learn model](#Example-1.5-Converting-a-pickled-Scikit-Learn-model)\n",
    "    - [Example 1.6 Converting a pickled cuML model](#Example-1.5-Converting-a-pickled-Scikit-Learn-model)\n",
    "* [FAQ 2: How do I execute models on CPU only? On GPU?](#FAQ-2:-How-do-I-execute-models-on-CPU-only?-On-GPU?)\n",
    "    - [FAQ 2.1: How do I fall back to CPU only if GPUs are not available?](#FAQ-2:-How-do-I-execute-models-on-CPU-only?-On-GPU?)\n",
    "* [Example 2: Generating a configuration file](#Example-2:-Generating-a-configuration-file)\n",
    "* [FAQ 3: How can I quickly test configuration options?](#FAQ-3:-How-can-I-quickly-test-configuration-options?)\n",
    "* [Example 3: Launching the Triton server with polling mode](#Example-3:-Launching-the-Triton-server-with-polling-mode)\n",
    "* [FAQ 4: My models are exhausting Triton's memory. What can I do?](#FAQ-4:-My-models-are-exhausting-Triton's-memory.-What-can-I-do?)\n",
    "    - [FAQ 4.1 How can I decrease the memory consumed by a model?](#FAQ-4.1-How-can-I-decrease-the-memory-consumed-by-a-model?)\n",
    "    - [FAQ 4.2 How do I increase Triton's device memory pool?](#FAQ-4.2-How-do-I-increase-Triton's-device-memory-pool?)\n",
    "* [Example 4: Configuring Triton for large models](#Example-4:-Configuring-Triton-for-large-models)\n",
    "    - [Example 4.1: Changing `storage_type` to reduce memory consumption](#Example-4.1:-Changing-storage_type-to-reduce-memory-consumption)\n",
    "    - [Example 4.2: Increasing Triton's device memory pool](#$\\color{#76b900}{\\text{Example-4.2:-Increasing-Triton's-device-memory-pool}}$)\n",
    "* [FAQ 5: How do I submit an inference request to Triton?](#FAQ-5:-How-do-I-submit-an-inference-request-to-Triton?)\n",
    "    - [FAQ 5.1: How do I submit inference requests through Triton's C API?](#FAQ-5.1:-How-do-I-submit-inference-requests-through-Triton's-C-API?)\n",
    "    - [FAQ 5.2: How do I submit inference requests with categorical variables?](#FAQ-5.2:-How-do-I-submit-inference-requests-with-categorical-variables?)\n",
    "* [Example 5: Submitting a request with the Triton Python client](#Example-5:-Submitting-a-request-with-the-Triton-Python-client)\n",
    "* [FAQ 6: How do I return probability scores rather than classes from a classifier?](#FAQ-6:-How-do-I-return-probability-scores-rather-than-classes-from-a-classifier?)\n",
    "* [Example 6: Using the `predict_proba` option](#Example-6:-Using-the-predict_proba-option)\n",
    "* [FAQ 7: Does serving my model with Triton change its accuracy?](#FAQ-7:-Does-serving-my-model-with-Triton-change-its-accuracy?)\n",
    "* [Example 7: Comparing results from Triton and native execution](#Example-7:-Comparing-results-from-Triton-and-native-execution)\n",
    "* [FAQ 8: How do we measure performance of the FIL backend?](#FAQ-8:-How-do-we-measure-performance-of-the-FIL-backend?)\n",
    "* [Example 8: Using perf_analyzer to measure throughput and latency](#Example-8:-Using-perf_analyzer-to-measure-throughput-and-latency)\n",
    "* [FAQ 9: How can we improve performance of models deployed with the FIL backend?](#FAQ-9:-How-can-we-improve-performance-of-models-deployed-with-the-FIL-backend?)\n",
    "    - [FAQ 9.1: Does specifying preferred batch sizes help FIL's performance?](#FAQ-9.1:-Does-specifying-preferred-batch-sizes-help-FIL's-performance?)\n",
    "* [Example 9: Optimizing model performance](#Example-9:-Optimizing-model-performance)\n",
    "    - [Example 9.1: Minimizing latency](#Example-9.1:-Minimizing-latency)\n",
    "    - [Example 9.2: Maximizing Throughput](#Example-9.2:-Maximizing-Throughput)\n",
    "    - [Example 9.3: Balancing latency and throughput](#Example-9.3:-Balancing-latency-and-throughput)\n",
    "* [FAQ 10: How fast is the FIL backend relative to alternatives?](#FAQ-10:-How-fast-is-the-FIL-backend-relative-to-alternatives?)\n",
    "    - [FAQ 10.1 How fast is the FIL backend on CPU vs on GPU?](#FAQ-10.1-How-fast-is-the-FIL-backend-on-CPU-vs-on-GPU?)\n",
    "    - [FAQ 10.2 How fast is the FIL backend relative to the ONNX backend?](#FAQ-10.2-How-fast-is-the-FIL-backend-relative-to-the-ONNX-backend?)\n",
    "* [Example 10: Comparing the FIL and ONNX backends](#$\\color{#76b900}{\\text{Example-10:-Comparing-the-FIL-and-ONNX-backends}}$)\n",
    "* [FAQ 11: How do I submit many inference requests in parallel?](#FAQ-11:-How-do-I-submit-many-inference-requests-in-parallel?)\n",
    "* [Example 11: Submitting requests in parallel with the Python client](#Example-11:-Submitting-requests-in-parallel-with-the-Python-client)\n",
    "* [FAQ 12: How do I retrieve Shapley values for model explainability?](#$\\color{#76b900}{\\text{FAQ-12:-How-do-I-retrieve-Shapley-values-for-model-explainability?}}$)\n",
    "* [Example 12: Retrieving Shapley Values](#$\\color{#76b900}{\\text{Example-12:-Retrieving-Shapley-Values}}$)\n",
    "* [FAQ 13: How do I serve a learning-to-rank model?](#FAQ-13:-How-do-I-serve-a-learning-to-rank-model?)\n",
    "* [Cleanup](#Cleanup)\n",
    "* [Conclusion](#Conclusion)"
   ]
  },
  {
   "cell_type": "markdown",
   "id": "e7224487",
   "metadata": {},
   "source": [
    "# Hardware Pre-Requisites\n",
    "Most of this notebook is designed to run either on CPU or GPU. Sections that will only run on GPU will be marked in $\\color{#76b900}{\\text{green}}$. To guarantee that all cells will execute correctly if a GPU is not available, change `USE_GPU` in the following cell to `False`. [^](#Table-of-Contents)"
   ]
  },
  {
   "cell_type": "code",
   "execution_count": null,
   "id": "58491c57",
   "metadata": {},
   "outputs": [],
   "source": [
    "USE_GPU = True"
   ]
  },
  {
   "cell_type": "markdown",
   "id": "72b761ac",
   "metadata": {},
   "source": [
    "## Software Pre-Requisites\n",
    "\n",
    "Depending on which model framework you choose to use, you may need a different subset of dependencies. In order to install *all* dependencies with conda, you can use the following environment file:\n",
    "\n",
    "```yaml\n",
    "---\n",
    "name: triton_faq_nb\n",
    "channels:\n",
    "  - conda-forge\n",
    "  - nvidia\n",
    "  - rapidsai\n",
    "dependencies:\n",
    "  - cudatoolkit=11.4\n",
    "  - cuml=22.04\n",
    "  - joblib\n",
    "  - jupyter\n",
    "  - lightgbm\n",
    "  - numpy\n",
    "  - pandas\n",
    "  - pip\n",
    "  - python=3.8\n",
    "  - scikit-learn\n",
    "  - skl2onnx\n",
    "  - treelite=2.3.0\n",
    "  - pip:\n",
    "      - tritonclient[all]\n",
    "      - xgboost>=1.5,<1.6\n",
    "      - protobuf==3.20.1\n",
    "```\n",
    "If you do not wish to install all dependencies, remove the frameworks you do not intend to use from this list. If you do not have access to an NVIDIA GPU, you should remove `cuml` and `cudatoolkit` from this list.\n",
    "\n",
    "In addition to the above dependencies, the Triton client requires that `libb64` be installed on the system, and Docker must be available to launch the Triton server. [^](#Table-of-Contents)"
   ]
  },
  {
   "cell_type": "markdown",
   "id": "86510373",
   "metadata": {},
   "source": [
    "# FAQ 1: What can I deploy with the FIL backend?\n",
    "The first thing you will need to begin using the FIL backend is a serialized model file. The FIL backend supports **tree-based** models serialized to formats from a variety of frameworks, including the following:\n",
    "\n",
    "## XGBoost JSON and binary models\n",
    "XGBoost uses two serialization formats, both of which are natively supported by the FIL backend. All XGBoost models except for multi-output regression models are supported.\n",
    "<div class=\"alert alert-block alert-info\">\n",
    "<b>VERSION NOTE:</b> Categorical variable support was added to XGBoost 1.5 as an experimental feature. The FIL backend has supported categorical variables since version 21.11.\n",
    "</div>\n",
    "<div class=\"alert alert-block alert-info\">\n",
    "<b>VERSION NOTE:</b> The XGBoost JSON format changed in XGBoost 1.6. The first version of the FIL backend to support these JSON changes will be 22.07.\n",
    "</div>\n",
    "\n",
    "## LightGBM text models\n",
    "LightGBM's text serialization format is natively supported for all LightGBM model types except for multi-output regression models.\n",
    "\n",
    "<div class=\"alert alert-block alert-info\">\n",
    "<b>VERSION NOTE:</b> Models trained on categorical variables have been supported since version 21.11 of the backend\n",
    "</div>\n",
    "\n",
    "## Scikit-Learn/cuML tree models and other Treelite-supported models\n",
    "\n",
    "The FIL backend supports the following model types from Scikit-Learn/cuML:\n",
    "- GradientBoostingClassifier\n",
    "- GradientBoostingRegressor\n",
    "- IsolationForest\n",
    "- RandomForestClassifier\n",
    "- RandomForestRegressor\n",
    "- ExtraTreesClassifier\n",
    "- ExtraTreesRegressor\n",
    "\n",
    "Since Scikit-Learn and cuML do not have native serialization formats for these models (instead relying on e.g. Pickle), we use Treelite's checkpoint format to support these models. This also means that *any* framework that can export to Treelite's checkpoint format will be supported by the FIL backend. As part of this notebook, we will provide an example of how to save a Scikit-Learn or cuML model to a Treelite checkpoint. [^](#Table-of-Contents)\n",
    "\n",
    "<div class=\"alert alert-block alert-info\">\n",
    "<a id='treelite-version'></a>\n",
    "<b>VERSION NOTE:</b> Treelite's checkpoint format provides no forward/backward compatibility guarantees. It is therefore <b>strongly recommended</b> that you save Scikit-Learn and cuML models to Pickle so that they can be reconverted as needed. The table below shows the version of Treelite which <b>must</b> be used with each version of the FIL backend.\n",
    "    \n",
    "<table>\n",
    "    <thead>\n",
    "        <tr><th>FIL Backend Version</th><th>Treelite</th></tr>\n",
    "    </thead>\n",
    "    <tbody>\n",
    "        <tr><td>21.08</td><td>1.3.0</td></tr>\n",
    "        <tr><td>21.09-21.10</td><td>2.0.0</td></tr>\n",
    "        <tr><td>21.11-22.02</td><td>2.1.0</td></tr>\n",
    "        <tr><td>22.03-22.06</td><td>2.3.0</td></tr>\n",
    "        <tr><td>22.07+</td><td>2.4.0</td></tr>\n",
    "    </tbody>\n",
    "</table>\n",
    "    \n",
    "</div>\n",
    "\n",
    "\n",
    "\n",
    "### FAQ 1.1 Can I deploy non-tree Scikit-Learn models like LinearRegression?\n",
    "No. The FIL backend only supports tree models and will continue to support only tree models in the future. Support for other model types may eventually be added to Triton via another backend. [^](#Table-of-Contents)\n",
    "\n",
    "### FAQ 1.2 Can I deploy Scikit-Learn/cuML Pipelines with the FIL backend?\n",
    "No. If you wish to create pipelines of different models in Triton, check out Triton's [Python backend](https://github.com/triton-inference-server/python_backend#python-backend), which allows users to connect models supported by other backends with arbitrary Python logic. [^](#Table-of-Contents)\n",
    "\n",
    "### FAQ 1.3 Can I deploy Scikit-Learn/cuML models serialized with Pickle?\n",
    "Pickle-serialized models can be converted to Treelite's checkpoint format using a script provided with the FIL Backend. This script is [documented here](https://github.com/triton-inference-server/fil_backend/blob/main/SKLearn_and_cuML.md#converting-to-treelite-checkpoints), and an example of its use will be included with this notebook. **Pickle models MUST be converted to Treelite checkpoints. They CANNOT be used directly by the FIL backend.** [^](#Table-of-Contents)\n",
    "\n",
    "### FAQ 1.4 Can I deploy Scikit-Learn/cuML models serialized with Joblib?\n",
    "JobLib-serialized models can be loaded in Python and serialized to Treelite checkpoints. At the moment, the conversion scripts for Pickle-serialized models do **not** work with Joblib, but support for Joblib will be added with a later version. **Joblib models MUST be converted to Treelite checkpoints. They CANNOT be used directly by the FIL backend.** [^](#Table-of-Contents)"
   ]
  },
  {
   "cell_type": "markdown",
   "id": "038cd3fa",
   "metadata": {},
   "source": [
    "# Example 1: Model Serialization\n",
    "\n",
    "In the following example code snippets, we will demonstrate how model serialization works for each of the supported model types. In the cell below, indicate the type of model you would like to use.\n",
    "\n",
    "If you are bringing your own model, please also provide the path to the serialized model. Otherwise, a model will be trained on random data in your selected format.\n",
    "\n",
    "In addition to information on where and how the model is stored, we'll use the following cell to gather a bit of metadata on the model which we'll need later on including the number of features the model expects and the number of classes it outputs. If you are using a regression model, use `1` for the number of classes."
   ]
  },
  {
   "cell_type": "code",
   "execution_count": null,
   "id": "977f2e89",
   "metadata": {},
   "outputs": [],
   "source": [
    "# Allowed values for MODEL_FORMAT are xgboost_json, xgboost_bin, lightgbm, skl_pkl, cuml_pkl, skl_joblib,\n",
    "# and treelite\n",
    "MODEL_FORMAT = 'xgboost_json'\n",
    "\n",
    "# If a path is provided to a model in the specified format, that model will be used for the following examples.\n",
    "# Otherwise, if MODEL_PATH is left as None, a model will be trained and stored to a default location.\n",
    "MODEL_PATH = None\n",
    "\n",
    "# Set this value to the number of features (columns) in your dataset\n",
    "NUM_FEATURES = 32\n",
    "\n",
    "# Set this value to the number of possible output classes or 1 for regression models\n",
    "NUM_CLASSES = 2\n",
    "\n",
    "# Set this value to False if you are using your own regression model\n",
    "IS_CLASSIFIER = True"
   ]
  },
  {
   "cell_type": "markdown",
   "id": "c62c5b43",
   "metadata": {},
   "source": [
    "## Model Training/Loading\n",
    "\n",
    "In this section, if a model path has been provided, we will load the model so that we can compare its output to what we get from Triton later in the notebook. If a model path has **not** been provided, a model of the indicated type will be trained and serialized to a default location. We will not provide detail or commentary on training, since this is not the focus of this notebook. Consult documentation or examples for your chosen framework if you would like to learn more about the training process."
   ]
  },
  {
   "cell_type": "code",
   "execution_count": null,
   "id": "49760159",
   "metadata": {},
   "outputs": [],
   "source": [
    "RANDOM_SEED=0"
   ]
  },
  {
   "cell_type": "code",
   "execution_count": null,
   "id": "2e483d05",
   "metadata": {},
   "outputs": [],
   "source": [
    "import pandas as pd\n",
    "from sklearn.datasets import make_classification\n",
    "# Create random dataset. Even if we do not use this dataset for training, we will use it for testing later.\n",
    "# If you would like to use a real dataset, load it here into X and y Pandas dataframes\n",
    "X, y = make_classification(\n",
    "    n_samples=5000,\n",
    "    n_features=NUM_FEATURES,\n",
    "    n_informative=max(NUM_FEATURES // 3, 1),\n",
    "    n_classes=NUM_CLASSES,\n",
    "    random_state=RANDOM_SEED\n",
    ")\n",
    "X = pd.DataFrame(X)\n",
    "y = pd.DataFrame(y)"
   ]
  },
  {
   "cell_type": "code",
   "execution_count": null,
   "id": "03943d23",
   "metadata": {},
   "outputs": [],
   "source": [
    "# Set model parameters for any models we need to train\n",
    "NUM_TREES = 500\n",
    "MAX_DEPTH = 10"
   ]
  },
  {
   "cell_type": "code",
   "execution_count": null,
   "id": "a8a2a0d6",
   "metadata": {},
   "outputs": [],
   "source": [
    "model = None\n",
    "# XGBoost\n",
    "def train_xgboost(X, y, n_trees=NUM_TREES, max_depth=MAX_DEPTH):\n",
    "    import xgboost as xgb\n",
    "    \n",
    "    if USE_GPU:\n",
    "        tree_method = 'gpu_hist'\n",
    "        predictor = 'gpu_predictor'\n",
    "    else:\n",
    "        tree_method = 'hist'\n",
    "        predictor = 'cpu_predictor'\n",
    "    \n",
    "    model = xgb.XGBClassifier(\n",
    "        eval_metric='error',\n",
    "        objective='binary:logistic',\n",
    "        tree_method=tree_method,\n",
    "        max_depth=max_depth,\n",
    "        n_estimators=n_trees,\n",
    "        use_label_encoder=False,\n",
    "        predictor=predictor\n",
    "    )\n",
    "    \n",
    "    return model.fit(X, y)\n",
    "\n",
    "def train_lightgbm(X, y, n_trees=NUM_TREES, max_depth=MAX_DEPTH):\n",
    "    import lightgbm as lgb\n",
    "    \n",
    "    lgb_data = lgb.Dataset(X, y)\n",
    "    \n",
    "    if classes <= 2:\n",
    "        classes = 1\n",
    "        objective = 'binary'\n",
    "        metric = 'binary_logloss'\n",
    "    else:\n",
    "        objective = 'multiclass'\n",
    "        metric = 'multi_logloss'\n",
    "    training_params = {\n",
    "        'metric': metric,\n",
    "        'objective': objective,\n",
    "        'num_class': NUM_CLASSES,\n",
    "        'max_depth': max_depth,\n",
    "        'verbose': -1\n",
    "    }\n",
    "    return lgb.train(training_params, lgb_data, n_trees)\n",
    "\n",
    "def train_cuml(X, y, n_trees=NUM_TREES, max_depth=MAX_DEPTH):\n",
    "    from cuml.ensemble import RandomForestClassifier\n",
    "    model = RandomForestClassifier(\n",
    "        max_depth=max_depth, n_estimators=n_trees, random_state=RANDOM_SEED\n",
    "    )\n",
    "    return model.fit(X, y)\n",
    "\n",
    "def train_skl(X, y, n_trees=NUM_TREES, max_depth=MAX_DEPTH):\n",
    "    from sklearn.ensemble import RandomForestClassifier\n",
    "    model = RandomForestClassifier(\n",
    "        max_depth=max_depth, n_estimators=n_trees, random_state=RANDOM_SEED\n",
    "    )\n",
    "    return model.fit(X, y)\n",
    "    \n",
    "    \n",
    "if MODEL_FORMAT in ('xgboost_json', 'xgboost_bin'):\n",
    "    if MODEL_PATH is not None:\n",
    "        # Load model just as a reference for later\n",
    "        import xgboost as xgb\n",
    "        model = xgb.Booster()\n",
    "        model.load_model(MODEL_PATH)\n",
    "        print('Congratulations! Your model is already in a natively-supported format')\n",
    "    else:\n",
    "        model = train_xgboost(X, y)\n",
    "elif MODEL_FORMAT == 'lightgbm':\n",
    "    if MODEL_PATH is not None:\n",
    "        # Load model just as a reference for later\n",
    "        import lightgbm as lgb\n",
    "        model = lgb.Booster(model_file=MODEL_PATH)\n",
    "        print('Congratulations! Your model is already in a natively-supported format')\n",
    "    else:\n",
    "        model = train_lightgbm(X, y)\n",
    "elif MODEL_FORMAT in ('cuml_pkl', 'skl_pkl', 'cuml_joblib', 'skl_joblib'):\n",
    "    if MODEL_PATH is not None:\n",
    "        if MODEL_FORMAT in ('cuml_pkl', 'skl_pkl'):\n",
    "            # Load model just as a reference for later\n",
    "            import pickle\n",
    "            model = pickle.load(MODEL_PATH)\n",
    "            print(\n",
    "                \"While pickle files are not natively supported, we will use a script to\"\n",
    "                \" convert your model to a Treelite checkpoint later in this notebook.\"\n",
    "            )\n",
    "        else:\n",
    "            print(\"Loading model from joblib file in order to convert it to Treelite checkpoint...\")\n",
    "            import joblib\n",
    "            model = joblib.load(MODEL_PATH)\n",
    "    elif MODEL_FORMAT.startswith('cuml'):\n",
    "        model = train_cuml(X, y)\n",
    "    elif MODEL_FORMAT.startswith('skl'):\n",
    "        model = train_skl(X, y)"
   ]
  },
  {
   "cell_type": "markdown",
   "id": "11b5b9e4",
   "metadata": {},
   "source": [
    "## The Model Repository\n",
    "Triton expects models to be stored in a specific directory structure. We will go ahead and create this directory structure now and serialize our models directly into the final directory or copy the serialized model there if the trained model was provided.\n",
    "\n",
    "Each model requires a configuration file stored in `$MODEL_REPO/$MODEL_NAME/config.pbtxt`, and a model file stored in `$MODEL_REPO/$MODEL_NAME/$MODEL_VERSION/$MODEL_FILENAME`. Note that Triton supports storing multiple versions of a model directories with different `$MODEL_VERSION` numbers starting from `1`. [^](#Table-of-Contents)"
   ]
  },
  {
   "cell_type": "code",
   "execution_count": null,
   "id": "39eb4a7a",
   "metadata": {},
   "outputs": [],
   "source": [
    "import os\n",
    "import shutil\n",
    "\n",
    "MODEL_NAME = 'example_model'\n",
    "MODEL_VERSION = 1\n",
    "MODEL_REPO = os.path.abspath('data/model_repository')\n",
    "MODEL_DIR = os.path.join(MODEL_REPO, MODEL_NAME)\n",
    "VERSIONED_DIR = os.path.join(MODEL_DIR, str(MODEL_VERSION))\n",
    "\n",
    "os.makedirs(VERSIONED_DIR, exist_ok=True)\n",
    "\n",
    "# We will use the following variables to record information from the serialization\n",
    "# process that we will require later\n",
    "model_path = None\n",
    "model_format = None"
   ]
  },
  {
   "cell_type": "markdown",
   "id": "e9b396b3",
   "metadata": {},
   "source": [
    "## Example 1.1: Serializing an XGBoost model\n",
    " [^](#Table-of-Contents)"
   ]
  },
  {
   "cell_type": "code",
   "execution_count": null,
   "id": "54bb67ad",
   "metadata": {},
   "outputs": [],
   "source": [
    "if MODEL_FORMAT == 'xgboost_json':\n",
    "    # This is the default filename expected for XGBoost JSON models. It is recommended\n",
    "    # that you stick with the default to avoid additional configuration.\n",
    "    model_basename = 'xgboost.json'\n",
    "    model_path = os.path.join(VERSIONED_DIR, model_basename)\n",
    "    \n",
    "    model_format = 'xgboost_json'\n",
    "elif MODEL_FORMAT == 'xgboost_bin':\n",
    "    # This is the default filename expected for XGBoost binary models. It is recommended\n",
    "    # that you stick with the default to avoid additional configuration.\n",
    "    model_basename = 'xgboost.model'\n",
    "    model_path = os.path.join(VERSIONED_DIR, model_basename)\n",
    "    \n",
    "    # This is the format name Triton uses to indicate XGBoost binary models\n",
    "    model_format = 'xgboost'\n",
    "\n",
    "if MODEL_FORMAT.startswith('xgboost'):\n",
    "    if MODEL_PATH is not None:  # Just need to copy existing file...\n",
    "        shutil.copy(MODEL_PATH, model_path)\n",
    "    else:\n",
    "        model.save_model(model_path)  # XGB derives format from extension"
   ]
  },
  {
   "cell_type": "markdown",
   "id": "736d87bb",
   "metadata": {},
   "source": [
    "## Example 1.2 Serializing a LightGBM model\n",
    " [^](#Table-of-Contents)"
   ]
  },
  {
   "cell_type": "code",
   "execution_count": null,
   "id": "32c82643",
   "metadata": {},
   "outputs": [],
   "source": [
    "if MODEL_FORMAT == 'lightgbm':\n",
    "    # This is the default filename expected for LightGBM text models. It is recommended\n",
    "    # that you stick with the default to avoid additional configuration.\n",
    "    model_basename = 'model.txt'\n",
    "    model_path = os.path.join(VERSIONED_DIR, model_basename)\n",
    "    \n",
    "    model_format = MODEL_FORMAT\n",
    "    \n",
    "    if MODEL_PATH is not None:  # Just need to copy existing file...\n",
    "        shutil.copy(MODEL_PATH, model_path)\n",
    "    else:\n",
    "        model.save_model(model_path)    "
   ]
  },
  {
   "cell_type": "markdown",
   "id": "acb7eb0d",
   "metadata": {},
   "source": [
    "## Example 1.3 Serializing an in-memory Scikit-Learn model\n",
    "<a id='example_1.3'></a>The following will show how to serialize a SKL model from Python directly to a Treelite checkpoint format. This could be a model that you have just trained or a model that you have e.g. loaded from Joblib. Again it is strongly recommended that you **save trained models in Pickle/Joblib as well as Treelite** since Treelite provides no compatibility guarantees between versions. [^](#Table-of-Contents)"
   ]
  },
  {
   "cell_type": "code",
   "execution_count": null,
   "id": "110924ce",
   "metadata": {},
   "outputs": [],
   "source": [
    "if model is not None and MODEL_FORMAT.startswith('skl'):\n",
    "    import pickle\n",
    "    archival_path = os.path.join(VERSIONED_DIR, 'model.pkl')\n",
    "    pickle.dump(model, archival_path)  # Create archival pickled version\n",
    "    \n",
    "    # This is the default filename expected for Treelite checkpoint models. It is recommended\n",
    "    # that you stick with the default to avoid additional configuration.\n",
    "    model_basename = 'checkpoint.tl'\n",
    "    model_path = os.path.join(VERSIONED_DIR, model_basename)\n",
    "    \n",
    "    model_format = 'treelite_checkpoint'\n",
    "    \n",
    "    import treelite\n",
    "    tl_model = treelite.sklearn.import_model(model)\n",
    "    tl_model.serialize(model_path)"
   ]
  },
  {
   "cell_type": "markdown",
   "id": "6e70cc57",
   "metadata": {},
   "source": [
    "## Example 1.4 Serializing an in-memory cuML model\n",
    "<a id='example_1.4'></a>The following will show how to serialize a cuML model from Python directly to a Treelite checkpoint format. This could be a model that you have just trained or a model that you have e.g. loaded from Joblib. Again it is strongly recommended that you **save trained models in Pickle/Joblib as well as Treelite** since Treelite provides no compatibility guarantees between versions. [^](#Table-of-Contents)"
   ]
  },
  {
   "cell_type": "code",
   "execution_count": null,
   "id": "16c0fb1b",
   "metadata": {},
   "outputs": [],
   "source": [
    "if model is not None and MODEL_FORMAT.startswith('cuml'):\n",
    "    import pickle\n",
    "    archival_path = os.path.join(VERSIONED_DIR, 'model.pkl')\n",
    "    pickle.dump(model, archival_path)  # Create archival pickled version\n",
    "    \n",
    "    # This is the default filename expected for Treelite checkpoint models. It is recommended\n",
    "    # that you stick with the default to avoid additional configuration.\n",
    "    model_basename = 'checkpoint.tl'\n",
    "    model_path = os.path.join(VERSIONED_DIR, model_basename)\n",
    "    \n",
    "    model_format = 'treelite_checkpoint'\n",
    "    \n",
    "    model.convert_to_treelite_model().to_treelite_checkpoint(model_path)"
   ]
  },
  {
   "cell_type": "markdown",
   "id": "7b4a73ee",
   "metadata": {},
   "source": [
    "## Example 1.5 Converting a pickled Scikit-Learn model\n",
    "For convenience, the FIL backend provides a script which can be used to convert a pickle file containing a Scikit-Learn model directly to a Treelite checkpoint file. If you do not have access to that script or prefer to work directly from Python, you can always load the pickled model into memory and then serialize it as in [Example 1.3](#example_1.3). [^](#Table-of-Contents)"
   ]
  },
  {
   "cell_type": "code",
   "execution_count": null,
   "id": "7bbf2e69",
   "metadata": {},
   "outputs": [],
   "source": [
    "if MODEL_PATH is not None and MODEL_FORMAT == 'skl_pkl':\n",
    "    archival_path = os.path.join(VERSIONED_DIR, 'model.pkl')\n",
    "    shutil.copy(MODEL_PATH, archival_path)\n",
    "    \n",
    "    !../../scripts/convert_sklearn {archival_path}"
   ]
  },
  {
   "cell_type": "markdown",
   "id": "adadf2ce",
   "metadata": {},
   "source": [
    "## Example 1.6 Converting a pickled cuML model\n",
    "For convenience, the FIL backend provides a script which can be used to convert a pickle file containing a cuML model directly to a Treelite checkpoint file. If you do not have access to that script or prefer to work directly from Python, you can always load the pickled model into memory and then serialize it as in [Example 1.4](#example_1.4). [^](#Table-of-Contents)"
   ]
  },
  {
   "cell_type": "code",
   "execution_count": null,
   "id": "b22bfb7e",
   "metadata": {},
   "outputs": [],
   "source": [
    "if MODEL_PATH is not None and MODEL_FORMAT == 'cuml_pkl':\n",
    "    archival_path = os.path.join(VERSIONED_DIR, 'model.pkl')\n",
    "    shutil.copy(MODEL_PATH, archival_path)\n",
    "    \n",
    "    !python ../../scripts/convert_cuml.py {archival_path}"
   ]
  },
  {
   "cell_type": "markdown",
   "id": "801f5015",
   "metadata": {},
   "source": [
    "# FAQ 2: How do I execute models on CPU only? On GPU?\n",
    "\n",
    "In addition to a serialized model file, you must provide a `config.pbtxt` configuration file for each model you wish to serve with the FIL backend for Triton. Within that file, it is possible to specify whether a model will run on CPU or GPU and how many instances of the model you wish to serve. For example, adding the following entry to the configuration file will create one instance of the model for each available GPU and run those instances each on their own dedicated GPU:\n",
    "\n",
    "```pbtxt\n",
    "  instance_group [{ kind: KIND_GPU }]\n",
    "```\n",
    "\n",
    "If you wish to instead run exactly three instances on CPU, the following entry can be used:\n",
    "```pbtxt\n",
    "  instance_group [\n",
    "    {\n",
    "      count: 3\n",
    "      kind: KIND_CPU\n",
    "    }\n",
    "  ]\n",
    "```\n",
    "\n",
    "In the following example, we will create a configuration file that can be used to serve your model on either CPU or GPU depending on the value of the `USE_GPU` flag set earlier in this notebook. [^](#Table-of-Contents)\n",
    "\n",
    "<div class=\"alert alert-block alert-info\">\n",
    "<b>VERSION NOTE:</b> CPU execution was introduced with version 21.07 of the FIL backend.\n",
    "</div>\n",
    "\n",
    "## FAQ 2.1: How do I fall back to CPU only if GPUs are not available?\n",
    "In addition to `KIND_GPU` and `KIND_CPU`, Triton offers a `KIND_AUTO`. To make use of this option, you must specify which GPUs you wish to make use of. If *any* of those GPUs are unavailable, Triton will fall back to CPU execution. An example of such a configuration is shown below: [^](#Table-of-Contents)\n",
    "```pbtxt\n",
    "  instance_group [\n",
    "    {\n",
    "      gpus: [ 0, 1 ]\n",
    "      kind: KIND_AUTO\n",
    "    }\n",
    "  ]\n",
    "```"
   ]
  },
  {
   "cell_type": "markdown",
   "id": "44c067fd",
   "metadata": {},
   "source": [
    "# Example 2: Generating a configuration file\n",
    "\n",
    "Based on the information provided about your model in previous cells, we can now construct a `config.pbtxt` that can be used to run that model on Triton. We will generate the configuration text and save it to the appropriate location.\n",
    "\n",
    "For full information on configuration options, check out the FIL backend [documentation](https://github.com/triton-inference-server/fil_backend#configuration). For a detailed example of configuration file construction, you can also check out the [introductory notebook](https://nbviewer.org/github/triton-inference-server/fil_backend/blob/main/notebooks/categorical-fraud-detection/Fraud_Detection_Example.ipynb#The-Configuration-File).  [^](#Table-of-Contents)"
   ]
  },
  {
   "cell_type": "code",
   "execution_count": null,
   "id": "a6c1be72",
   "metadata": {},
   "outputs": [],
   "source": [
    "# Maximum size in bytes for input and output arrays\n",
    "MAX_MEMORY_BYTES = 60_000_000\n",
    "bytes_per_sample = (NUM_FEATURES + NUM_CLASSES) * 4\n",
    "max_batch_size = MAX_MEMORY_BYTES // bytes_per_sample\n",
    "\n",
    "# Select deployment hardware (GPU or CPU)\n",
    "if USE_GPU:\n",
    "    instance_kind = 'KIND_GPU'\n",
    "else:\n",
    "    instance_kind = 'KIND_CPU'\n",
    "    \n",
    "if IS_CLASSIFIER:\n",
    "    classifier_string = 'false'\n",
    "else:\n",
    "    classifier_string = 'true'\n",
    "\n",
    "config_text = f\"\"\"backend: \"fil\",\n",
    "max_batch_size: {max_batch_size}\n",
    "input [                                 \n",
    " {{  \n",
    "    name: \"input__0\"\n",
    "    data_type: TYPE_FP32\n",
    "    dims: [ {NUM_FEATURES} ]                    \n",
    "  }} \n",
    "]\n",
    "output [\n",
    " {{\n",
    "    name: \"output__0\"\n",
    "    data_type: TYPE_FP32\n",
    "    dims: [ 1 ]\n",
    "  }}\n",
    "]\n",
    "instance_group [{{ kind: {instance_kind} }}]\n",
    "parameters [\n",
    "  {{\n",
    "    key: \"model_type\"\n",
    "    value: {{ string_value: \"{model_format}\" }}\n",
    "  }},\n",
    "  {{\n",
    "    key: \"predict_proba\"\n",
    "    value: {{ string_value: \"false\" }}\n",
    "  }},\n",
    "  {{\n",
    "    key: \"output_class\"\n",
    "    value: {{ string_value: \"{classifier_string}\" }}\n",
    "  }},\n",
    "  {{\n",
    "    key: \"threshold\"\n",
    "    value: {{ string_value: \"0.5\" }}\n",
    "  }},\n",
    "  {{\n",
    "    key: \"storage_type\"\n",
    "    value: {{ string_value: \"AUTO\" }}\n",
    "  }}\n",
    "]\n",
    "\n",
    "dynamic_batching {{}}\"\"\"\n",
    "\n",
    "config_path = os.path.join(MODEL_DIR, 'config.pbtxt')\n",
    "with open(config_path, 'w') as file_:\n",
    "    file_.write(config_text)"
   ]
  },
  {
   "cell_type": "markdown",
   "id": "e051c189",
   "metadata": {},
   "source": [
    "# FAQ 3: How can I quickly test configuration options?\n",
    "Sometimes it is useful to be able to quickly iterate on the options available in the `config.pbtxt` file for your model. While it is not recommended for production deployments, Triton offers a \"polling\" mode which will automatically reload models when their configurations change. To use this option, launch the server with the `--model-control-mode=poll` flag. After changing the configuration, wait a few seconds for the model to reload, and then Triton will be ready to handle requests with the new configuration. [^](#Table-of-Contents)\n",
    "\n",
    "# Example 3: Launching the Triton server with polling mode\n",
    "In the following cell, we will launch the server with the model repository we set up previously in this notebook. We will use pulling mode in order to allow us to tweak the configuration file and observe the impact of our changes. [^](#Table-of-Contents)"
   ]
  },
  {
   "cell_type": "code",
   "execution_count": null,
   "id": "193612d0",
   "metadata": {},
   "outputs": [],
   "source": [
    "TRITON_IMAGE = 'nvcr.io/nvidia/tritonserver:22.05-py3'\n",
    "!docker run --gpus all -d -p 8000:8000 -p 8001:8001 -p 8002:8002 -v {MODEL_REPO}:/models --name tritonserver {TRITON_IMAGE} tritonserver --model-repository=/models --model-control-mode=poll"
   ]
  },
  {
   "cell_type": "code",
   "execution_count": null,
   "id": "ccbcce1b",
   "metadata": {},
   "outputs": [],
   "source": [
    "import time\n",
    "time.sleep(10)  # Wait for server to come up\n",
    "!docker logs tritonserver"
   ]
  },
  {
   "cell_type": "markdown",
   "id": "e543928f",
   "metadata": {},
   "source": [
    "In later sections, we'll take advantage of polling mode to make tweaks to our configuration and observe their impact."
   ]
  },
  {
   "cell_type": "markdown",
   "id": "8c4f1883",
   "metadata": {},
   "source": [
    "# FAQ 4: My models are exhausting Triton's memory. What can I do?\n",
    "Tree-based models tend to have fairly modest memory needs, but when using several models together or when trying to process very large batches, you'll sometimes run into memory constraints.\n",
    "\n",
    "For models deployed on GPU, Triton allocates a device memory pool when it is launched, and the FIL backend only allocates device memory from this pool, so one option is to simply increase the size of the pool until you reach hardware limits on available memory.\n",
    "\n",
    "For models deployed on CPU or for deployments which have exceeded the hardware limits on available device memory, you may wish to instead reduce the memory consumption of models by tweaking configuration options. Let's look at this case first to showcase the polling mode introduced in the previous example. [^](#Table-of-Contents)\n",
    "## FAQ 4.1 How can I decrease the memory consumed by a model?\n",
    "There are two primary ways to reduce memory consumption by a FIL model:\n",
    "- Reducing max batch size\n",
    "- Changing the `storage_type` option to use a low-memory model representation\n",
    "We will take a look at both of these options in the next example.\n",
    "\n",
    "Note that reducing `max_batch_size` in `config.pbtxt` will only impact memory consumption if your model is receiving large enough batches to run up against this limit. Keep in mind that with Triton's dynamic batching feature, there is a distinction between *client* batch size and *server* batch size. With dynamic batching enabled, several small batches received from one or more clients can be combined into a larger server batch. The `max_batch_size` configuration option sets the maximum *server* batch that your model will receive.\n",
    "\n",
    "For most deployments, the more consistent way to reduce model memory usage is to change the `storage_type` option. FIL gives models an in-memory representation of type `DENSE`, `SPARSE`, or `SPARSE8`, in order of progressively less memory usage. Note that using a `SPARSE` or `SPARSE8` representation can reduce a model's runtime performance and that some models will fail to load as `SPARSE8`. In general, `SPARSE8` should be avoided unless absolutely necessary for memory management.\n",
    "\n",
    "By setting `storage_type` to `AUTO`, you allow FIL to select the memory representation that is likely to offer the best mix of runtime performance and memory footprint, but if memory consumption is a problem, explicitly setting `storage_type` to `SPARSE` will ensure that a sparse representation is used. Alternatively, if you wish to maximize runtime performance regardless of memory considerations, you may try explicitly using a `DENSE` representation. In Example 4.1, we will explicitly set the `storage_type` to `SPARSE` and then back to `AUTO`.\n",
    "\n",
    "Note that you will not be able to observe a reduction in system GPU memory consumption (e.g. by using `nvidia-smi`) when adjusting these options, since all device memory allocations for FIL models come from Triton's pre-allocated memory pool. [^](#Table-of-Contents)\n",
    "\n",
    "## FAQ 4.2 How do I increase Triton's device memory pool?\n",
    "By default, Triton allocates a device memory pool of 67,108,864 bytes on each GPU. You can adjust this value on server startup with the `--cuda-memory-pool-byte-size` flag. Note that this flag takes arguments in the form `--cuda-memory-pool-byte-size=$GPU_ID:$BYTE_SIZE` and must be repeated for each GPU. In Example 4.2, we will take down the server and restart it with this option. [^](#Table-of-Contents)"
   ]
  },
  {
   "cell_type": "markdown",
   "id": "14619b97",
   "metadata": {},
   "source": [
    "# Example 4: Configuring Triton for large models\n",
    "\n",
    "## Example 4.1: Changing `storage_type` to reduce memory consumption\n",
    "In the following example, we generate a new configuration with `storage_type` set to `SPARSE` and write it out to `config.pbtxt`. Since we have turned on Triton's polling mode, this configuration change will automatically be picked up. [^](#Table-of-Contents)"
   ]
  },
  {
   "cell_type": "code",
   "execution_count": null,
   "id": "1f77a8e9",
   "metadata": {},
   "outputs": [],
   "source": [
    "config_text = f\"\"\"backend: \"fil\",\n",
    "max_batch_size: {max_batch_size}\n",
    "input [                                 \n",
    " {{  \n",
    "    name: \"input__0\"\n",
    "    data_type: TYPE_FP32\n",
    "    dims: [ {NUM_FEATURES} ]                    \n",
    "  }} \n",
    "]\n",
    "output [\n",
    " {{\n",
    "    name: \"output__0\"\n",
    "    data_type: TYPE_FP32\n",
    "    dims: [ 1 ]\n",
    "  }}\n",
    "]\n",
    "instance_group [{{ kind: {instance_kind} }}]\n",
    "parameters [\n",
    "  {{\n",
    "    key: \"model_type\"\n",
    "    value: {{ string_value: \"{model_format}\" }}\n",
    "  }},\n",
    "  {{\n",
    "    key: \"predict_proba\"\n",
    "    value: {{ string_value: \"false\" }}\n",
    "  }},\n",
    "  {{\n",
    "    key: \"output_class\"\n",
    "    value: {{ string_value: \"{classifier_string}\" }}\n",
    "  }},\n",
    "  {{\n",
    "    key: \"threshold\"\n",
    "    value: {{ string_value: \"0.5\" }}\n",
    "  }},\n",
    "  {{\n",
    "    key: \"storage_type\"\n",
    "    value: {{ string_value: \"SPARSE\" }}\n",
    "  }}\n",
    "]\n",
    "\n",
    "dynamic_batching {{}}\"\"\"\n",
    "\n",
    "config_path = os.path.join(MODEL_DIR, 'config.pbtxt')\n",
    "with open(config_path, 'w') as file_:\n",
    "    file_.write(config_text)"
   ]
  },
  {
   "cell_type": "code",
   "execution_count": null,
   "id": "b1488aa6",
   "metadata": {},
   "outputs": [],
   "source": [
    "time.sleep(10)  # Wait for configuration change to be processed\n",
    "!docker logs tritonserver\n",
    "# In the logs, we should see that example_model has been loaded and unloaded successfully\n",
    "# with the new configuration"
   ]
  },
  {
   "cell_type": "markdown",
   "id": "8f9cdc14",
   "metadata": {},
   "source": [
    "## $\\color{#76b900}{\\text{Example 4.2: Increasing Triton's device memory pool}}$\n",
    "Now, let's take the server down entirely and bring it back up with a larger device memory pool. In the following example, specify the list of GPUs you wish to use and your desired memory pool size. Keep in mind the hardware limits of your system when specifying the pool size. [^](#Table-of-Contents)"
   ]
  },
  {
   "cell_type": "code",
   "execution_count": null,
   "id": "256002d3",
   "metadata": {},
   "outputs": [],
   "source": [
    "!docker rm -f tritonserver\n",
    "time.sleep(10) # Wait for server to come down"
   ]
  },
  {
   "cell_type": "code",
   "execution_count": null,
   "id": "43de9d5b",
   "metadata": {},
   "outputs": [],
   "source": [
    "POOL_SIZE_BYTES = 100_663_296  # Set based on available device memory\n",
    "GPU_LIST = [0, 1]  # Set based on available device IDs"
   ]
  },
  {
   "cell_type": "code",
   "execution_count": null,
   "id": "ac2392cf",
   "metadata": {},
   "outputs": [],
   "source": [
    "pool_flags = ' '.join([f'--cuda-memory-pool-byte-size={device}:{POOL_SIZE_BYTES}' for device in GPU_LIST])\n",
    "print(pool_flags)"
   ]
  },
  {
   "cell_type": "code",
   "execution_count": null,
   "id": "20996b57",
   "metadata": {},
   "outputs": [],
   "source": [
    "!docker run --gpus all -d -p 8000:8000 -p 8001:8001 -p 8002:8002 -v {MODEL_REPO}:/models --name tritonserver {TRITON_IMAGE} tritonserver --model-repository=/models --model-control-mode=poll {pool_flags}"
   ]
  },
  {
   "cell_type": "code",
   "execution_count": null,
   "id": "883c63b6",
   "metadata": {},
   "outputs": [],
   "source": [
    "time.sleep(10)  # Wait for server to come up\n",
    "!docker logs tritonserver"
   ]
  },
  {
   "cell_type": "markdown",
   "id": "554b1df1",
   "metadata": {},
   "source": [
    "# FAQ 5: How do I submit an inference request to Triton?\n",
    "Triton supports both GRPC and HTTP requests, and you can use any GRPC/HTTP client to submit requests to Triton. In practice, however, it is often difficult to construct correct inference requests using a generic client, so Triton provides Python, Java, and C++ [clients](https://github.com/triton-inference-server/client#client-library-apis) to make it easier to interact with the Triton server from each of those languages. For other languages, including [Go](https://github.com/triton-inference-server/client/tree/main/src/grpc_generated/go), [Scala](https://github.com/triton-inference-server/client/tree/main/src/grpc_generated/java), and [JavaScript](https://github.com/triton-inference-server/client/tree/main/src/grpc_generated/javascript), Triton provides a protoc compiler that can generate GRPC APIs for inclusion in your application. In this notebook, we will take a look solely at how to make use of the Python client for submitting inference requests. [^](#Table-of-Contents)\n",
    "\n",
    "## FAQ 5.1: How do I submit inference requests through Triton's C API?\n",
    "In addition to its use as an HTTP/GRPC server, Triton can be used as a library within another application using its C API. Example code for this use case with the FIL backend is under development and will be linked to once complete.\n",
    " [^](#Table-of-Contents)\n",
    "## FAQ 5.2: How do I submit inference requests with categorical variables?\n",
    "Triton accepts input as an array of floating-point values, rather than e.g. a dataframe. In order to accept categorical values, we must convert them to floating-point representations of the categorical codes used in training.\n",
    "\n",
    "Just as with most frameworks that accept categorical variables, a certain amount of care must be taken to ensure that the same categorical codes are used during inference as during training. For instance, if you trained your model using a dataframe with ten possible categorical values in a particular column, but the data you submit at inference time has only two of the ten possible values, Pandas/cuDF may assign different categorical codes from those used during training, leading to incorrect results. Therefore, it is important to keep some record of the categories used during training to correctly construct an input array. In this example, we will demonstrate how to convert categorical values to their floating point representation using the categorical codes provided by Pandas/cuDF. [^](#Table-of-Contents)\n",
    "\n",
    "## FAQ 5.3: Should I use any name besides `input__0` and `output__0` for inputs/outputs to the FIL backend?\n",
    "**No.** Unless you are using the FIL backend's Shapley value output feature (described later), the sole input array should *always* be named `input__0`, and the sole output array should *always* be named `output__0`. [^](#Table-of-Contents)"
   ]
  },
  {
   "cell_type": "markdown",
   "id": "2186f89b",
   "metadata": {},
   "source": [
    "# Example 5: Submitting a request with the Triton Python client\n",
    "In the following example, we first use the Triton Python client to ensure that the server is live and the model is ready to accept requests. We then submit a single request and view the result as a numpy array. Next, we submit a larger batch of requests and examine the results. [^](#Table-of-Contents)"
   ]
  },
  {
   "cell_type": "code",
   "execution_count": null,
   "id": "f75ecbdd",
   "metadata": {},
   "outputs": [],
   "source": [
    "# Create GRPC client instance\n",
    "import time\n",
    "import tritonclient.grpc as triton_grpc\n",
    "from tritonclient import utils as triton_utils\n",
    "\n",
    "# If you are running your Triton server on a remote host or a non-standard port, adjust the\n",
    "# following settings\n",
    "HOST = 'localhost'\n",
    "PORT = 8001\n",
    "\n",
    "# TIMEOUT sets the time in seconds that we will wait for the server to be ready before giving\n",
    "# up\n",
    "TIMEOUT = 60\n",
    "\n",
    "client = triton_grpc.InferenceServerClient(url=f'{HOST}:{PORT}')"
   ]
  },
  {
   "cell_type": "code",
   "execution_count": null,
   "id": "83004e16",
   "metadata": {},
   "outputs": [],
   "source": [
    "# Check to see if server is live and model is loaded\n",
    "def is_triton_ready():\n",
    "    server_start = time.time()\n",
    "    while True:\n",
    "        try:\n",
    "            if client.is_server_ready() and client.is_model_ready(MODEL_NAME):\n",
    "                return True\n",
    "        except triton_utils.InferenceServerException:\n",
    "            pass\n",
    "        if time.time() - server_start > TIMEOUT:\n",
    "            print('Server was not ready before given timeout. Check the logs below for possible issues.')\n",
    "            !docker logs tritonserver\n",
    "            return False\n",
    "        time.sleep(1)"
   ]
  },
  {
   "cell_type": "code",
   "execution_count": null,
   "id": "37abe292",
   "metadata": {},
   "outputs": [],
   "source": [
    "# Convert a dataframe to a numpy array including conversion of categorical variables\n",
    "def convert_to_numpy(df):\n",
    "    df = df.copy()\n",
    "    cat_cols = df.select_dtypes('category').columns\n",
    "    for col in cat_cols:\n",
    "        df[col] = df[col].cat.codes\n",
    "    for col in df.columns:\n",
    "        df[col] =  pd.to_numeric(df[col], downcast='float')\n",
    "    return df.values"
   ]
  },
  {
   "cell_type": "code",
   "execution_count": null,
   "id": "16a73c41",
   "metadata": {},
   "outputs": [],
   "source": [
    "single_sample = convert_to_numpy(X[0:1])\n",
    "print(single_sample)"
   ]
  },
  {
   "cell_type": "code",
   "execution_count": null,
   "id": "58aa08b6",
   "metadata": {},
   "outputs": [],
   "source": [
    "def triton_predict(model_name, arr):\n",
    "    triton_input = triton_grpc.InferInput('input__0', arr.shape, 'FP32')\n",
    "    triton_input.set_data_from_numpy(arr)\n",
    "    triton_output = triton_grpc.InferRequestedOutput('output__0')\n",
    "    response = client.infer(model_name, model_version='1', inputs=[triton_input], outputs=[triton_output])\n",
    "    return response.as_numpy('output__0')"
   ]
  },
  {
   "cell_type": "code",
   "execution_count": null,
   "id": "77d85efb",
   "metadata": {},
   "outputs": [],
   "source": [
    "# Perform inference on a single sample (row)\n",
    "if is_triton_ready():\n",
    "    triton_result = triton_predict(MODEL_NAME, single_sample)\n",
    "    print(triton_result)"
   ]
  },
  {
   "cell_type": "code",
   "execution_count": null,
   "id": "3a7cf54e",
   "metadata": {},
   "outputs": [],
   "source": [
    "# Perform inference on a batch\n",
    "if is_triton_ready():\n",
    "    batch = convert_to_numpy(X[0:min(len(X), max_batch_size, 100)])\n",
    "    triton_result = triton_predict(MODEL_NAME, batch)\n",
    "    print(triton_result)"
   ]
  },
  {
   "cell_type": "markdown",
   "id": "47088c39",
   "metadata": {},
   "source": [
    "# FAQ 6: How do I return probability scores rather than classes from a classifier?\n",
    "To return confidence scores from 0 to 1 rather than just a final output class, we set the `predict_proba` option to `true` in `config.pbtxt`. Note that for multi-class classifiers, we also need to change the output dimensions, since a confidence score will be generated for each possible class in our output. For single-class classifiers, the output dimension is still 1, since we return the confidence score only for the positive class. In the following example, we adjust these options and perform inference on a single sample once again to demonstrate the change in output. [^](#Table-of-Contents)"
   ]
  },
  {
   "cell_type": "markdown",
   "id": "95121614",
   "metadata": {},
   "source": [
    "# Example 6: Using the `predict_proba` option\n",
    "<div class=\"alert alert-block alert-warning\">\n",
    "    <b>Note:</b> This example is not relevant for regression models.\n",
    "</div>\n",
    "\n",
    "In the following example, we will write out a new configuration file with `predict_proba` set to true and the correct output dimensions. We will wait for the change to be picked up by the server's polling feature and then submit an inference request to the model as we did before. [^](#Table-of-Contents)"
   ]
  },
  {
   "cell_type": "code",
   "execution_count": null,
   "id": "ddedb01f",
   "metadata": {},
   "outputs": [],
   "source": [
    "if NUM_CLASSES <= 2:\n",
    "    output_dim = 1\n",
    "else:\n",
    "    output_dim = NUM_CLASSES\n",
    "\n",
    "config_text = f\"\"\"backend: \"fil\",\n",
    "max_batch_size: {max_batch_size}\n",
    "input [                                 \n",
    " {{  \n",
    "    name: \"input__0\"\n",
    "    data_type: TYPE_FP32\n",
    "    dims: [ {NUM_FEATURES} ]                    \n",
    "  }} \n",
    "]\n",
    "output [\n",
    " {{\n",
    "    name: \"output__0\"\n",
    "    data_type: TYPE_FP32\n",
    "    dims: [ {output_dim} ]\n",
    "  }}\n",
    "]\n",
    "instance_group [{{ kind: {instance_kind} }}]\n",
    "parameters [\n",
    "  {{\n",
    "    key: \"model_type\"\n",
    "    value: {{ string_value: \"{model_format}\" }}\n",
    "  }},\n",
    "  {{\n",
    "    key: \"predict_proba\"\n",
    "    value: {{ string_value: \"true\" }}\n",
    "  }},\n",
    "  {{\n",
    "    key: \"output_class\"\n",
    "    value: {{ string_value: \"{classifier_string}\" }}\n",
    "  }},\n",
    "  {{\n",
    "    key: \"threshold\"\n",
    "    value: {{ string_value: \"0.5\" }}\n",
    "  }},\n",
    "  {{\n",
    "    key: \"storage_type\"\n",
    "    value: {{ string_value: \"AUTO\" }}\n",
    "  }}\n",
    "]\n",
    "\n",
    "dynamic_batching {{}}\"\"\"\n",
    "\n",
    "if IS_CLASSIFIER:\n",
    "    config_path = os.path.join(MODEL_DIR, 'config.pbtxt')\n",
    "    with open(config_path, 'w') as file_:\n",
    "        file_.write(config_text)"
   ]
  },
  {
   "cell_type": "code",
   "execution_count": null,
   "id": "52a29a41",
   "metadata": {},
   "outputs": [],
   "source": [
    "time.sleep(10)  # Wait for server polling to reload the changed config\n",
    "if is_triton_ready():\n",
    "    batch = convert_to_numpy(X[0:min(len(X), max_batch_size, 100)])\n",
    "    triton_result = triton_predict(MODEL_NAME, batch)\n",
    "    print(triton_result)"
   ]
  },
  {
   "cell_type": "markdown",
   "id": "9b882395",
   "metadata": {},
   "source": [
    "# FAQ 7: Does serving my model with Triton change its accuracy?\n",
    "In general, no. Models served with Triton's FIL backend are loaded and executed according to the exact same rules as their native frameworks. However, inference with FIL is subject to floating point error, and the highly-parallel nature of FIL means that there may be slight differences in results between inference runs. If a confidence score is close to the decision threshold, this may even impact the output class reported for the model, so it is recommended to set `predict_proba` on if you are comparing model output on Triton vs. local execution.\n",
    "\n",
    "Additionally, LightGBM allows training and execution of models with double precision, while FIL currently uses single precision for all models. An update is under development to allow double precision execution, but for now, this may lead to slight differences in output between double precision models in their native framework and the same model loaded in the FIL backend.\n",
    "\n",
    "Regardless, these differences tend to be very marginal, and even with these caveats you can expect approximately the same accuracy for your model when served with Triton. [^](#Table-of-Contents)"
   ]
  },
  {
   "cell_type": "markdown",
   "id": "2c5c4c32",
   "metadata": {},
   "source": [
    "# Example 7: Comparing results from Triton and native execution\n",
    "In the following example, we obtain results from both Triton and from our local copy of the model. We compare these results and demonstrate that they are the same to within the differences we might expect from floating-point error. [^](#Table-of-Contents)"
   ]
  },
  {
   "cell_type": "code",
   "execution_count": null,
   "id": "fa64b258",
   "metadata": {},
   "outputs": [],
   "source": [
    "# Obtain results from native framework\n",
    "batch = X[0:min(len(X), max_batch_size, 100)]\n",
    "native_result = model.predict_proba(batch)\n",
    "print(\"Output from native framework:\")\n",
    "if IS_CLASSIFIER and NUM_CLASSES <= 2 and len(native_result.shape) == 2 and native_result.shape[1] == 2:\n",
    "    native_result = native_result[:, 1]\n",
    "print(native_result)"
   ]
  },
  {
   "cell_type": "code",
   "execution_count": null,
   "id": "fdda0dd5",
   "metadata": {},
   "outputs": [],
   "source": [
    "# Obtain results from Triton\n",
    "if is_triton_ready():\n",
    "    numpy_batch = convert_to_numpy(batch)\n",
    "    triton_result = triton_predict(MODEL_NAME, numpy_batch)\n",
    "    print(\"Output from Triton:\")\n",
    "    print(triton_result)"
   ]
  },
  {
   "cell_type": "code",
   "execution_count": null,
   "id": "9da39908",
   "metadata": {},
   "outputs": [],
   "source": [
    "# Compare results and compute maximum absolute difference for any output entry\n",
    "import numpy as np\n",
    "max_diff = np.max(np.abs(triton_result - native_result))\n",
    "print(f'The maximum absolute difference between the Triton and native output is {max_diff}')"
   ]
  },
  {
   "cell_type": "markdown",
   "id": "899f08d5",
   "metadata": {},
   "source": [
    "# FAQ 8: How do we measure performance of the FIL backend?\n",
    "For practical purposes, there are two numbers we generally care about when considering the performance of an inference server like Triton: **throughput** and **latency**. Throughput gives a measure of how many samples (rows) can be processed in a given interval, while latency gives a measure of how long a client will have to wait after sending a request before it receives a response.\n",
    "\n",
    "Depending on your specific application, throughput or latency may have a higher or lower priority. Imagine that you are developing an application to analyze credit card transactions for potential fraud and stop suspected fraudulent transactions before they can go through. In such cases, latency is extremely important because a fraud/non-fraud determination must be made before a response can be sent to the point-of-sale. If the latency is too high, you may not be able to make a determination before the transaction has been processed.\n",
    "\n",
    "On the other hand, imagine that you are developing an application to *retroactively* process all credit card transactions cleared in a day and look for fraudulent transactions that might already have occurred. In this case, throughput is the most important performance metric, since all we care about is the rate at which we can process the entire batch of daily transactions.\n",
    "\n",
    "As another way of thinking about this tradeoff, latency generally determines the *responsiveness* of your application, while throughput determines the *compute cost*. With higher throughput, you will be able to process more total samples in a shorter period of time, which means that you can use fewer instances to handle required traffic. With lower latency, you will be able to quickly return responses, but you may need more instances to handle the volume of traffic you expect.\n",
    "\n",
    "The FIL backend and Triton itself offer a range of configuration options to allow you to achieve exactly the right balance of throughput and latency for your application. We will go through a few of them in the following sections. For each option we consider, we will make use of Triton's `perf_analyzer` [tool](https://github.com/triton-inference-server/server/blob/main/docs/perf_analyzer.md#performance-analyzer) which allows us to measure latency and throughput with a variety of configuration options. [^](#Table-of-Contents)"
   ]
  },
  {
   "cell_type": "markdown",
   "id": "d7ce4221",
   "metadata": {},
   "source": [
    "# Example 8: Using `perf_analyzer` to measure throughput and latency\n",
    "\n",
    "Triton's `perf_analyzer` offers a huge number of options that allow you to simulate real deployment conditions and measure both throughput and latency. In this example, we will focus on just a few of these options that will help us to assess overall performance of models deployed with the FIL backend."
   ]
  },
  {
   "cell_type": "code",
   "execution_count": null,
   "id": "3c37e83e",
   "metadata": {},
   "outputs": [],
   "source": [
    "# The simplest invocation of perf_analyzer, submitting one sample at a time\n",
    "!perf_analyzer -m {MODEL_NAME}"
   ]
  },
  {
   "cell_type": "markdown",
   "id": "9047766c",
   "metadata": {},
   "source": [
    "In the above output, we see the throughput in inferences/second (equivalently samples/second or rows/second) and the latency in microseconds. Several different latency scores are reported, including the average latency and p99 latency (the latency of the request in the 99th percentile of recorded latencies). Often, service level agreements are established around a particular latency percentile, so you can see the value which is most relevant to your application.\n",
    "\n",
    "While this gives us a starting point for understanding our model's performance, other factors can play into both throughput and latency. Let's see what happens when we switch from the default HTTP to GRPC"
   ]
  },
  {
   "cell_type": "code",
   "execution_count": null,
   "id": "37513ea8",
   "metadata": {},
   "outputs": [],
   "source": [
    "!perf_analyzer -m {MODEL_NAME} -i GRPC"
   ]
  },
  {
   "cell_type": "markdown",
   "id": "1de98aa2",
   "metadata": {},
   "source": [
    "Depending on your model, this may or may not have had much effect on the measured performance, but generally, Triton gets slightly better performance over GRPC than HTTP. Let's now look at what happens when we increase our client batch size from 1 to 16:"
   ]
  },
  {
   "cell_type": "code",
   "execution_count": null,
   "id": "86f40963",
   "metadata": {},
   "outputs": [],
   "source": [
    "!perf_analyzer -m {MODEL_NAME} -i GRPC -b 16"
   ]
  },
  {
   "cell_type": "markdown",
   "id": "b954e516",
   "metadata": {},
   "source": [
    "Depending on your model, throughput likely went up, but latency may have gone up as well. If you have the option of doing client-side batching in your application, exploring possible batch sizes with `perf_analyzer` can help you find the right balance of latency and throughput. In general, you should not be afraid to consider very large batch sizes when running FIL on the GPU. FIL offers throughput benefits for batches consisting even of millions of rows, but latency may suffer due to the overhead of transferring such large arrays over the network.\n",
    "\n",
    "While client-side batching is not always an option, we can take advantage of Triton's dynamic batching feature to combine many small client-side batches into a larger server batch. Let's use `perf_analyzer`'s `--concurrency-range` option to see what happens when many small concurrent requests are submitted to the server at once. As the name of the flag implies, it is generally used to explore a *range* of concurrencies, but here we will use it just to explore a single higher concurrency value"
   ]
  },
  {
   "cell_type": "code",
   "execution_count": null,
   "id": "061501d8",
   "metadata": {},
   "outputs": [],
   "source": [
    "!perf_analyzer -m {MODEL_NAME} -i GRPC --concurrency-range 16:16"
   ]
  },
  {
   "cell_type": "markdown",
   "id": "a79765de",
   "metadata": {},
   "source": [
    "There is some additional work required to combine these small batches and distribute responses, so the measured performance is likely somewhat worse than when we were doing a similar amount of batching client-side. Nevertheless, throughput likely increased relative to our original run, demonstrating the potential value of Triton's dynamic batching feature. [^](#Table-of-Contents)"
   ]
  },
  {
   "cell_type": "markdown",
   "id": "dfed583c",
   "metadata": {},
   "source": [
    "# FAQ 9: How can we improve performance of models deployed with the FIL backend?\n",
    "\n",
    "A number of factors impact the throughput and latency we can expect for models deployed on the FIL backend including:\n",
    "- The complexity of the model\n",
    "- Whether GPUs or CPUs are used for inference\n",
    "- Client batch size\n",
    "- Whether or not Triton's dynamic batching feature is used\n",
    "- Whether or not Triton's shared memory mode is used\n",
    "- Whether HTTP or GRPC is used\n",
    "- On CPU:\n",
    "    * The `use_experimental_optimizations` flag in `config.pbtxt`\n",
    "- On GPU:\n",
    "    * The `storage_type` option in `config.pbtxt`\n",
    "    * The `transfer_threshold` option in `config.pbtxt`\n",
    "    * The `algo` option in `config.pbtxt` (advanced feature)\n",
    "    * The `blocks_per_sm` option in `config.pbtxt` (advanced feature)\n",
    "    * The `threads_per_tree` option in `config.pbtxt` (advanced feature)\n",
    "\n",
    "Making the correct choice for each of these depends on your model, hardware configuration and on whether you are prioritizing latency, throughput, or some combination of both. In the following examples, we will first look at a case where we are prioritizing latency above all else. Then we will look at ways to maximize throughput, and finally we will try to find a good balance of both. [^](#Table-of-Contents)\n",
    "\n",
    "## FAQ 9.1: Does specifying preferred batch sizes help FIL's performance?\n",
    "Triton allows specification of \"preferred\" batch sizes in the configuration of its dynamic batching feature, but this does **not** offer any benefit to performance of models deployed with the FIL backend. While there are theoretically extremely marginal performance benefits at specific batch sizes, the actual model evaluation in FIL is fast enough that waiting for a specific batch size instead of proceeding immediately with whatever input data is available is counterproductive. [^](#Table-of-Contents)"
   ]
  },
  {
   "cell_type": "markdown",
   "id": "83f3f53b",
   "metadata": {},
   "source": [
    "# Example 9: Optimizing model performance\n",
    "\n",
    "## Example 9.1: Minimizing latency\n",
    "<div class=\"alert alert-block alert-warning\">\n",
    "    <b>WARNING:</b> Using the configuration we consider here is NOT recommended for any sort of production deployment, unless your application <b>truly</b> requires minimal latency down to the microsecond and you have either extremely light traffic or the ability to scale out onto a very large number of instances.\n",
    "</div>\n",
    "\n",
    "In this example, we will focus on minimizing latency at all costs. In reality, there is a point of diminishing returns at which substantially higher throughput can be achieved by adding just a few microseconds to latency, but we will take the extreme case here to illustrate all the ways you can reduce latency for your model.\n",
    "\n",
    "Note that by taking these steps, you will likely have to invest in more compute instances to handle total incoming traffic. Taken to extremes, a minimal latency configuration could have a dedicated instance for each client, so look to Example 9.3 for a more balanced approach.\n",
    "\n",
    "### Step 1: Minimize batch size\n",
    "If all we care about is achieving the lowest possible latency, we will want to ensure that data is processed in as small of batches as possible. To do this, we will turn off Triton's dynamic batching feature by removing the `dynamic_batching` entry from `config.pbtxt` and submit client batches of size 1. Note that doing this will substantially impact our ability to handle high server traffic unless we scale out to more compute instances."
   ]
  },
  {
   "cell_type": "code",
   "execution_count": null,
   "id": "f322d78d",
   "metadata": {},
   "outputs": [],
   "source": [
    "config_text = f\"\"\"backend: \"fil\",\n",
    "max_batch_size: {max_batch_size}\n",
    "input [                                 \n",
    " {{  \n",
    "    name: \"input__0\"\n",
    "    data_type: TYPE_FP32\n",
    "    dims: [ {NUM_FEATURES} ]                    \n",
    "  }} \n",
    "]\n",
    "output [\n",
    " {{\n",
    "    name: \"output__0\"\n",
    "    data_type: TYPE_FP32\n",
    "    dims: [ 1 ]\n",
    "  }}\n",
    "]\n",
    "instance_group [{{ kind: {instance_kind} }}]\n",
    "parameters [\n",
    "  {{\n",
    "    key: \"model_type\"\n",
    "    value: {{ string_value: \"{model_format}\" }}\n",
    "  }},\n",
    "  {{\n",
    "    key: \"predict_proba\"\n",
    "    value: {{ string_value: \"false\" }}\n",
    "  }},\n",
    "  {{\n",
    "    key: \"output_class\"\n",
    "    value: {{ string_value: \"{classifier_string}\" }}\n",
    "  }},\n",
    "  {{\n",
    "    key: \"threshold\"\n",
    "    value: {{ string_value: \"0.5\" }}\n",
    "  }},\n",
    "  {{\n",
    "    key: \"storage_type\"\n",
    "    value: {{ string_value: \"AUTO\" }}\n",
    "  }}\n",
    "]\n",
    "\"\"\"\n",
    "\n",
    "config_path = os.path.join(MODEL_DIR, 'config.pbtxt')\n",
    "with open(config_path, 'w') as file_:\n",
    "    file_.write(config_text)\n",
    "time.sleep(10)"
   ]
  },
  {
   "cell_type": "markdown",
   "id": "70588003",
   "metadata": {},
   "source": [
    "### Step 2: Use shared memory mode (if possible)\n",
    "In the rare case that your input data is coming from the same machine that is making requests, you can substantially improve performance (both throughput and latency) by using Triton's shared memory mode. In this mode, rather than transferring the entirety of an input array over the network, the data are loaded into memory by the client, and then Triton is provided with a pointer to that data in memory.\n",
    "\n",
    "Usually, input requests do not originate from the server, so this option is not always possible. Nevertheless, let's take a look at this option with `perf_analyzer`, in part to get a sense of how much overhead is due to network transfer of the input array.\n",
    "\n",
    "<div class=\"alert alert-block alert-info\">\n",
    "<b>VERSION NOTE:</b> Prior to version 21.07, a bug resulted in incorrect results when CUDA shared memory mode was used with a model deployed on CPU. It is generally not recommended that you use CUDA shared memory mode with a CPU-deployed model prior to version 21.11.\n",
    "</div>"
   ]
  },
  {
   "cell_type": "code",
   "execution_count": null,
   "id": "5ad2e415",
   "metadata": {
    "scrolled": true
   },
   "outputs": [],
   "source": [
    "if is_triton_ready():\n",
    "    if USE_GPU:\n",
    "        !perf_analyzer -m {MODEL_NAME} -i GRPC --shared-mem=cuda\n",
    "    else:\n",
    "        !perf_analyzer -m {MODEL_NAME} -i GRPC --shared-mem=host"
   ]
  },
  {
   "cell_type": "markdown",
   "id": "4a5c5246",
   "metadata": {},
   "source": [
    "For our remaining experiments in this example, we will **not** make use of shared memory."
   ]
  },
  {
   "cell_type": "markdown",
   "id": "abbb87f1",
   "metadata": {},
   "source": [
    "### Step 3: Activate experimental CPU optimizations\n",
    "For simple enough models we can sometimes achieve better minimum latency on CPU than on GPU because we can avoid the overhead of transferring data from host to device and back again. Whether this offers benefit for any particular application depends significantly on the model and on your available hardware (both CPU and GPU). Regardless, if minimizing latency is essential, you will want to set the `use_experimental_optimizations` flag to `true` in order to obtain the best possible CPU performance.\n",
    "\n",
    "This flag uses an alternate CPU inference method with substantially improved performance. Despite the name of the flag, this method is quite stable and will become the default CPU execution path in future versions of the FIL backend. Let's try activating this mode now, switching to CPU execution, and looking at the impact on latency.\n",
    "\n",
    "<div class=\"alert alert-block alert-info\">\n",
    "<b>VERSION NOTE:</b> This option was added in version 22.04. Version 22.03 did not offer the use_experimental_optimizations flag, but it did include some CPU optimizations relative to earlier versions. Prior to version 22.03, CPU execution was not at all optimized. If you are using a version of Triton before 22.03, GPU execution should be used for optimal performance (both throughput and latency).\n",
    "</div>"
   ]
  },
  {
   "cell_type": "code",
   "execution_count": null,
   "id": "9705a382",
   "metadata": {},
   "outputs": [],
   "source": [
    "config_text = f\"\"\"backend: \"fil\",\n",
    "max_batch_size: {max_batch_size}\n",
    "input [                                 \n",
    " {{  \n",
    "    name: \"input__0\"\n",
    "    data_type: TYPE_FP32\n",
    "    dims: [ {NUM_FEATURES} ]                    \n",
    "  }} \n",
    "]\n",
    "output [\n",
    " {{\n",
    "    name: \"output__0\"\n",
    "    data_type: TYPE_FP32\n",
    "    dims: [ 1 ]\n",
    "  }}\n",
    "]\n",
    "instance_group [{{ kind: KIND_CPU }}]\n",
    "parameters [\n",
    "  {{\n",
    "    key: \"model_type\"\n",
    "    value: {{ string_value: \"{model_format}\" }}\n",
    "  }},\n",
    "  {{\n",
    "    key: \"predict_proba\"\n",
    "    value: {{ string_value: \"false\" }}\n",
    "  }},\n",
    "  {{\n",
    "    key: \"output_class\"\n",
    "    value: {{ string_value: \"{classifier_string}\" }}\n",
    "  }},\n",
    "  {{\n",
    "    key: \"threshold\"\n",
    "    value: {{ string_value: \"0.5\" }}\n",
    "  }},\n",
    "  {{\n",
    "    key: \"storage_type\"\n",
    "    value: {{ string_value: \"AUTO\" }}\n",
    "  }},\n",
    "  {{\n",
    "    key: \"use_experimental_optimizations\"\n",
    "    value: {{ string_value: \"true\" }}\n",
    "  }}\n",
    "]\n",
    "\"\"\"\n",
    "\n",
    "config_path = os.path.join(MODEL_DIR, 'config.pbtxt')\n",
    "with open(config_path, 'w') as file_:\n",
    "    file_.write(config_text)\n",
    "time.sleep(10)"
   ]
  },
  {
   "cell_type": "code",
   "execution_count": null,
   "id": "5c235042",
   "metadata": {},
   "outputs": [],
   "source": [
    "if is_triton_ready():\n",
    "    !perf_analyzer -m {MODEL_NAME} -i GRPC"
   ]
  },
  {
   "cell_type": "markdown",
   "id": "758a18ed",
   "metadata": {},
   "source": [
    "The impact of this change will depend on the complexity of your model and on your available CPU/GPU hardware, but you are likely to see a modest improvement in latency and a slight decline in throughput. [^](#Table-of-Contents)"
   ]
  },
  {
   "cell_type": "markdown",
   "id": "c5c3b41f",
   "metadata": {},
   "source": [
    "## Example 9.2: Maximizing Throughput\n",
    "We now turn to the opposite extreme and attempt to maximize throughput without any consideration for latency. While the absolute-minimum latency configuration rarely makes sense, there are many applications for which latency can be arbitrarily high. If you are batch-processing a large volume of data without real-time client interaction, throughput is likely to be the only reblevant metric.\n",
    "\n",
    "### $\\color{#76b900}{\\text{Step 1: Use GPU execution}}$\n",
    "Maximum throughput for any model deployed with the FIL backend will be substantially higher on GPU than on CPU. In fact, this increased throughput more than offsets the increased per-hour cost of most GPU cloud instances, resulting in cost savings of around 50% for many typical model deployments relative to CPU execution.\n",
    "\n",
    "### Step 2: Use dynamic batching\n",
    "By combining many small requests from clients into one large server-side batch, we can take maximal advantage of the highly-optimized parallel execution of FIL.\n",
    "\n",
    "### Step 3: Increase client-side batch size (if possible)\n",
    "If your application allows it, increasing the size of client batches can further increase performance by avoiding the overhead of combining input data and scattering output data.\n",
    "\n",
    "### $\\color{#76b900}{\\text{Step 4: Try storage_type DENSE (if possible)}}$\n",
    "If you have enough memory available, switching to a `storage_type` of `DENSE` *may* improve performance. This is model-dependent, however, and the impact may be small. We will not attempt this here, since you may be working with a model that would not fit in memory with a dense representation.\n",
    "\n",
    "### $\\color{#76b900}{\\text{Step 5 (Advanced): Experiment with algo options}}$\n",
    "We can use this configuration option to explicitly specify how FIL will lay out its trees and progress through them during inference. The following options are available:\n",
    "- `ALGO_AUTO`\n",
    "- `NAIVE`\n",
    "- `TREE_REORG`\n",
    "- `BATCH_TREE_REORG`\n",
    "It is difficult to say *a priori* which option will be most suitable for your model and deployment configuration, so `ALGO_AUTO` is generally a safe choice. Nevertheless, we will demonstrate the `TREE_REORG` option, since it provided about a 10% improvement in throughput for the model used while testing this notebook.\n",
    "\n",
    "<div class=\"alert alert-block alert-warning\">\n",
    "    <b>NOTE:</b> Only ALGO_AUTO and NAIVE can be used with storage_type SPARSE or SPARSE8\n",
    "</div>\n",
    "\n",
    "### $\\color{#76b900}{\\text{Step 6 (Advanced): Experiment with the blocks_per_sm option}}$\n",
    "This option lets us explicitly set the number of CUDA blocks per streaming multiprocessor that will be used for the GPU inference kernel. For very large models, this can improve the cache hit rate, resulting in a modest improvement in performance. To experiment with this option, set it to any value between 2 and 7.\n",
    "\n",
    "As with `algo` selection, it is difficult to say what the impact of tweaking this option will be. In the model used while testing this notebook, no value offered better performance than the default of 0, which allows FIL to select the blocks per SM via a different method.\n",
    "\n",
    "### $\\color{#76b900}{\\text{Step 7 (Advanced): Experiment with the threads_per_tree option}}$\n",
    "This option lets us increase the number of CUDA threads used for inference on a single tree above 1, but it results in increased shared memory usage. Because of this, we will not experiment with this value in this notebook.\n"
   ]
  },
  {
   "cell_type": "markdown",
   "id": "910977b1",
   "metadata": {},
   "source": [
    "Combining all of these options, let's write out a new configuration file and observe the impact on throughput with `perf_analyzer`. [^](#Table-of-Contents)"
   ]
  },
  {
   "cell_type": "code",
   "execution_count": null,
   "id": "dd76a83e",
   "metadata": {},
   "outputs": [],
   "source": [
    "config_text = f\"\"\"backend: \"fil\",\n",
    "max_batch_size: {max_batch_size}\n",
    "input [                                 \n",
    " {{  \n",
    "    name: \"input__0\"\n",
    "    data_type: TYPE_FP32\n",
    "    dims: [ {NUM_FEATURES} ]                    \n",
    "  }} \n",
    "]\n",
    "output [\n",
    " {{\n",
    "    name: \"output__0\"\n",
    "    data_type: TYPE_FP32\n",
    "    dims: [ 1 ]\n",
    "  }}\n",
    "]\n",
    "instance_group [{{ kind: {instance_kind} }}]\n",
    "parameters [\n",
    "  {{\n",
    "    key: \"model_type\"\n",
    "    value: {{ string_value: \"{model_format}\" }}\n",
    "  }},\n",
    "  {{\n",
    "    key: \"predict_proba\"\n",
    "    value: {{ string_value: \"false\" }}\n",
    "  }},\n",
    "  {{\n",
    "    key: \"output_class\"\n",
    "    value: {{ string_value: \"{classifier_string}\" }}\n",
    "  }},\n",
    "  {{\n",
    "    key: \"threshold\"\n",
    "    value: {{ string_value: \"0.5\" }}\n",
    "  }},\n",
    "  {{\n",
    "    key: \"storage_type\"\n",
    "    value: {{ string_value: \"AUTO\" }}\n",
    "  }},\n",
    "  {{\n",
    "    key: \"algo\"\n",
    "    value: {{ string_value: \"TREE_REORG\" }}\n",
    "  }},\n",
    "  {{\n",
    "    key: \"blocks_per_sm\"\n",
    "    value: {{ string_value: \"0\" }}\n",
    "  }}\n",
    "]\n",
    "\n",
    "dynamic_batching {{}}\"\"\"\n",
    "\n",
    "config_path = os.path.join(MODEL_DIR, 'config.pbtxt')\n",
    "with open(config_path, 'w') as file_:\n",
    "    file_.write(config_text)\n",
    "time.sleep(10)"
   ]
  },
  {
   "cell_type": "code",
   "execution_count": null,
   "id": "e49095d5",
   "metadata": {},
   "outputs": [],
   "source": [
    "if is_triton_ready():\n",
    "    !perf_analyzer -m {MODEL_NAME} -i GRPC -b {max_batch_size}"
   ]
  },
  {
   "cell_type": "markdown",
   "id": "8433b206",
   "metadata": {},
   "source": [
    "### Step 8: Increase concurrency with a slightly smaller client batch size\n",
    "Because of the overhead of transferring large input arrays over the network, it can sometimes be beneficial to submit arrays of a size less than the maximum batch size but to do so at higher concurrency. This allows the FIL backend to begin working on a batch while network transfer continues, effectively \"overlapping\" data transfer and processing. Let's take a look at what happens when we submit batches of half the size we were before but with higher concurrency."
   ]
  },
  {
   "cell_type": "code",
   "execution_count": null,
   "id": "df68b5db",
   "metadata": {},
   "outputs": [],
   "source": [
    "# First submit batches of maximum size at concurrency 16\n",
    "!perf_analyzer -m {MODEL_NAME} -i GRPC -b {max_batch_size} --concurrency-range 16:16"
   ]
  },
  {
   "cell_type": "code",
   "execution_count": null,
   "id": "61de18cd",
   "metadata": {},
   "outputs": [],
   "source": [
    "# Now submit batches of half the maximum size at the same concurrency\n",
    "half_max_batch_size = max_batch_size // 2\n",
    "!perf_analyzer -m {MODEL_NAME} -i GRPC -b {half_max_batch_size} --concurrency-range 16:16"
   ]
  },
  {
   "cell_type": "markdown",
   "id": "03a2a1c9",
   "metadata": {},
   "source": [
    "Depending on your model, this may or may not have improved throughput, but in general there is some optimal client batch size below the maximum server batch size that allows for increased throughput while *also* reducing latency. This technique is so valuable we will revisit it in more detail in FAQ 11, where we will demonstrate how to do this with the Python client. [^](#Table-of-Contents)"
   ]
  },
  {
   "cell_type": "markdown",
   "id": "40f7f278",
   "metadata": {},
   "source": [
    "## Example 9.3: Balancing latency and throughput\n",
    "Let's now imagine a somewhat more typical scenario, where rather than working toward absolute minimal latency or absolute maximum throughput, we have some latency budget and are looking to maximize throughput within that latency budget.\n",
    "\n",
    "Let's imagine that we have a p99 latency budget of 2 ms. We will start by writing out a configuration that makes use of features we explored in examples 9.1 and 9.2, then we will use `perf_analyzer` to see how our model will perform under various deployment scenarios."
   ]
  },
  {
   "cell_type": "code",
   "execution_count": null,
   "id": "b853b08a",
   "metadata": {},
   "outputs": [],
   "source": [
    "config_text = f\"\"\"backend: \"fil\",\n",
    "max_batch_size: {max_batch_size}\n",
    "input [                                 \n",
    " {{  \n",
    "    name: \"input__0\"\n",
    "    data_type: TYPE_FP32\n",
    "    dims: [ {NUM_FEATURES} ]                    \n",
    "  }} \n",
    "]\n",
    "output [\n",
    " {{\n",
    "    name: \"output__0\"\n",
    "    data_type: TYPE_FP32\n",
    "    dims: [ 1 ]\n",
    "  }}\n",
    "]\n",
    "instance_group [{{ kind: {instance_kind} }}]\n",
    "parameters [\n",
    "  {{\n",
    "    key: \"model_type\"\n",
    "    value: {{ string_value: \"{model_format}\" }}\n",
    "  }},\n",
    "  {{\n",
    "    key: \"predict_proba\"\n",
    "    value: {{ string_value: \"false\" }}\n",
    "  }},\n",
    "  {{\n",
    "    key: \"output_class\"\n",
    "    value: {{ string_value: \"{classifier_string}\" }}\n",
    "  }},\n",
    "  {{\n",
    "    key: \"threshold\"\n",
    "    value: {{ string_value: \"0.5\" }}\n",
    "  }},\n",
    "  {{\n",
    "    key: \"storage_type\"\n",
    "    value: {{ string_value: \"AUTO\" }}\n",
    "  }},\n",
    "  {{\n",
    "    key: \"algo\"\n",
    "    value: {{ string_value: \"TREE_REORG\" }}\n",
    "  }},\n",
    "  {{\n",
    "    key: \"blocks_per_sm\"\n",
    "    value: {{ string_value: \"0\" }}\n",
    "  }},\n",
    "  {{\n",
    "    key: \"use_experimental_optimizations\"\n",
    "    value: {{ string_value: \"true\" }}\n",
    "  }}\n",
    "]\n",
    "\n",
    "dynamic_batching {{}}\"\"\"\n",
    "\n",
    "config_path = os.path.join(MODEL_DIR, 'config.pbtxt')\n",
    "with open(config_path, 'w') as file_:\n",
    "    file_.write(config_text)\n",
    "time.sleep(10)"
   ]
  },
  {
   "cell_type": "markdown",
   "id": "9098ea38",
   "metadata": {},
   "source": [
    "Let's assume for the moment that we must hold our client batch size fixed to just 1. Using `perf_analyzer`, we can explore a range of concurrencies to see how well our server will handle increasing amounts of traffic for the model. Using the `--binary-search` flag, we can perform a binary search over a range of concurrencies to find the highest value that does not exceed our 2 ms p99 latency budget (set with the `-l` flag)."
   ]
  },
  {
   "cell_type": "code",
   "execution_count": null,
   "id": "673693dc",
   "metadata": {},
   "outputs": [],
   "source": [
    "if is_triton_ready():\n",
    "    # Find the highest concurrency between 1 and 16 that does not exceed 2ms p99 latency\n",
    "    !perf_analyzer -m {MODEL_NAME} -i GRPC --binary-search --percentile 99 --concurrency-range 1:16 -l 2"
   ]
  },
  {
   "cell_type": "markdown",
   "id": "dfda9f90",
   "metadata": {},
   "source": [
    "For the model and hardware used to test this notebook, a concurrency of 8 was the highest we could go for the given p99 latency budget. This gives us a sense of how many concurrent requests our model can handle without threatening our latency target.\n",
    "\n",
    "Now, let's assume that we *can* increase client batch size. Can we set the client batch size at the given concurrency and still stay under our 2 ms p99 latency target? There is no batch size search option for `perf_analyzer`, but we can simply experiment with a range of batch sizes in the following invocation."
   ]
  },
  {
   "cell_type": "code",
   "execution_count": null,
   "id": "612ac2d8",
   "metadata": {},
   "outputs": [],
   "source": [
    "if is_triton_ready():\n",
    "    !perf_analyzer -m {MODEL_NAME} -i GRPC --concurrency-range 8:8 -b 3"
   ]
  },
  {
   "cell_type": "markdown",
   "id": "d4f8d3c0",
   "metadata": {},
   "source": [
    "For the model and hardware used to test this notebook, we could increase the client batch size to 3 without meaningfully changing the p99 latency, thereby tripling our throughput. By exploring these kinds of tradeoffs with `perf_analyzer`, you can find a balance of throughput and latency which meets your latency budget but which also maximizes throughput (and therefore minimizes compute costs). [^](#Table-of-Contents)"
   ]
  },
  {
   "attachments": {
    "Throughput%20vs%20Batch%20Size%20for%20XGBoost_FIL%20Only.png": {
     "image/png": "[encoded data removed]"
    },
    "Throughput%20vs%20p99%20Latency%20With%20Triton.png": {
     "image/png": "[encoded data removed]"
    }
   },
   "cell_type": "markdown",
   "id": "3d629a02",
   "metadata": {},
   "source": [
    "# FAQ 10: How fast is the FIL backend relative to alternatives?\n",
    "There are relatively few inference servers which offer support for tree-based models, so it is somewhat difficult to find a useful point of comparison. Sometimes, users ask for a comparison of the FIL backend's performance to e.g. native XGBoost performance, but because XGBoost does not offer an inference *serving* solution, it is very difficult to create an apples-to-apples comparison.\n",
    "\n",
    "What we can do is compare the underlying FIL execution library directly to the underlying XGBoost library without invoking Triton as a server. In the following chart, we see this comparison for a fairly typical XGBoost model of moderate complexity. For this benchmark, GPU execution took place on a single A100 provided via a GCP a2 instance. CPU execution took place on a GCP n2-standard-16 instance.\n",
    "![Throughput%20vs%20Batch%20Size%20for%20XGBoost_FIL%20Only.png](attachment:Throughput%20vs%20Batch%20Size%20for%20XGBoost_FIL%20Only.png)\n",
    "\n",
    "As we can see, FIL significantly outperforms CPU XGBoost at small batch sizes and more dramatically outperforms it on GPU for higher batch sizes. [^](#Table-of-Contents)\n",
    "\n",
    "## FAQ 10.1 How fast is the FIL backend on CPU vs on GPU?\n",
    "\n",
    "Naturally, the answer to this question depends on the CPU and GPU hardware you have available. To give a sense of the typical performance differential one might expect, however, we present throughput-latency curves on CPU and GPU for a typical XGBoost model below. For this benchmark, GPU execution took place on a single A100 provided via a GCP a2 instance. CPU execution took place on a GCP n2-standard-16 instance.\n",
    "![Throughput%20vs%20p99%20Latency%20With%20Triton.png](attachment:Throughput%20vs%20p99%20Latency%20With%20Triton.png)\n",
    "\n",
    "In the very low latency domain (small batch size, light server traffic), we see that CPU execution can outperform GPU, but above around half a millisecond latency (slightly larger batches or increased traffic), GPU clearly dominates. [^](#Table-of-Contents)\n",
    "\n",
    "## FAQ 10.2 How fast is the FIL backend relative to the ONNX backend?\n",
    "\n",
    "While analysis of the underlying library is a useful starting place for understanding the performance of the FIL backend, it does not provide an entirely satisfactory point of comparison, since it does not provide a direct comparison of latency/throughput achievable on FIL vs another solution.\n",
    "\n",
    "Triton does offer one other backend that supports *some* tree-based models, however. Using ONNX, we can get a more direct sense of how the FIL backend performs in an end-to-end comparison. In example 10, we will compare performance of a Scikit-Learn model when deployed with the FIL backend to the same model deployed with the ONNX backend and demonstrate that the FIL backend generally significantly outperforms ONNX on GPU. [^](#Table-of-Contents)\n",
    "\n",
    "\n",
    "<div class=\"alert alert-block alert-warning\">\n",
    "    <b>NOTE:</b> We have restricted the following example to GPU execution because the relative CPU performance of ONNX vs FIL varies on a wide enough range of factors to make it difficult to draw generally-applicable conclusions. This topic will be covered separately elsewhere. CPU optimizations continue to be a focus for FIL backend development, and we expect its performance to continue to improve in areas where it currently underperforms the ONNX backend. For more details, see <a href=\"https://github.com/triton-inference-server/fil_backend/issues/168#issuecomment-1076895114\">this Github issue</a>.\n",
    "</div>"
   ]
  },
  {
   "cell_type": "markdown",
   "id": "ea4fa3e5",
   "metadata": {},
   "source": [
    "## $\\color{#76b900}{\\text{Example 10: Comparing the FIL and ONNX backends}}$\n",
    "\n",
    "For this example, we will abandon our current example model and instead train up a Scikit-Learn RandomForestClassifier. This model can be converted to ONNX using the skl2onnx package. While *some* XGBoost models can also be converted to ONNX in a similar way, there is often difficulty with matching versions of each of the relevant packages, so we will stick to Scikit-Learn for the moment. We will then deploy the model using both the FIL and ONNX backends and compare their performance using `perf_analyzer`.\n",
    "\n",
    "\n",
    "<div class=\"alert alert-block alert-info\">\n",
    "<b>VERSION NOTE:</b> Remember that when using Scikit-learn models, the version of Treelite used for serialization must match that used in the Triton server version you are using. See the <a href=#treelite-version>compatibility table</a> above for info on which Treelite version is required.\n",
    "</div>"
   ]
  },
  {
   "cell_type": "code",
   "execution_count": null,
   "id": "64e2331f",
   "metadata": {},
   "outputs": [],
   "source": [
    "# Train model\n",
    "if USE_GPU:\n",
    "    skl_model = train_skl(X, y, n_trees=5)"
   ]
  },
  {
   "cell_type": "code",
   "execution_count": null,
   "id": "81a58e7e",
   "metadata": {},
   "outputs": [],
   "source": [
    "# Serialize model to Triton model repo and write out config file for FIL\n",
    "if USE_GPU:\n",
    "    import treelite\n",
    "\n",
    "    fil_name = 'fil_model'\n",
    "    fil_dir = os.path.join(MODEL_REPO, fil_name)\n",
    "    fil_versioned_dir = os.path.join(fil_dir, '1')\n",
    "\n",
    "    os.makedirs(fil_versioned_dir, exist_ok=True)\n",
    "\n",
    "    fil_path = os.path.join(fil_versioned_dir, 'checkpoint.tl')\n",
    "\n",
    "    tl_model = treelite.sklearn.import_model(skl_model)\n",
    "    tl_model.serialize(fil_path)\n",
    "\n",
    "    config_text = f\"\"\"backend: \"fil\",\n",
    "max_batch_size: {max_batch_size}\n",
    "input [                                 \n",
    " {{  \n",
    "    name: \"input__0\"\n",
    "    data_type: TYPE_FP32\n",
    "    dims: [ {NUM_FEATURES} ]                    \n",
    "  }} \n",
    "]\n",
    "output [\n",
    " {{\n",
    "    name: \"output__0\"\n",
    "    data_type: TYPE_FP32\n",
    "    dims: [ 1 ]\n",
    "  }}\n",
    "]\n",
    "instance_group [{{ kind: {instance_kind} }}]\n",
    "parameters [\n",
    "  {{\n",
    "    key: \"model_type\"\n",
    "    value: {{ string_value: \"treelite_checkpoint\" }}\n",
    "  }},\n",
    "  {{\n",
    "    key: \"predict_proba\"\n",
    "    value: {{ string_value: \"false\" }}\n",
    "  }},\n",
    "  {{\n",
    "    key: \"output_class\"\n",
    "    value: {{ string_value: \"true\" }}\n",
    "  }},\n",
    "  {{\n",
    "    key: \"threshold\"\n",
    "    value: {{ string_value: \"0.5\" }}\n",
    "  }},\n",
    "  {{\n",
    "    key: \"storage_type\"\n",
    "    value: {{ string_value: \"SPARSE\" }}\n",
    "  }},\n",
    "  {{\n",
    "    key: \"algo\"\n",
    "    value: {{ string_value: \"ALGO_AUTO\" }}\n",
    "  }},\n",
    "  {{\n",
    "    key: \"blocks_per_sm\"\n",
    "    value: {{ string_value: \"0\" }}\n",
    "  }},\n",
    "  {{\n",
    "    key: \"use_experimental_optimizations\"\n",
    "    value: {{ string_value: \"true\" }}\n",
    "  }}\n",
    "]\n",
    "\n",
    "dynamic_batching {{}}\"\"\"\n",
    "\n",
    "    config_path = os.path.join(fil_dir, 'config.pbtxt')\n",
    "    with open(config_path, 'w') as file_:\n",
    "        file_.write(config_text)"
   ]
  },
  {
   "cell_type": "code",
   "execution_count": null,
   "id": "1222b126",
   "metadata": {},
   "outputs": [],
   "source": [
    "# Serialize model to Triton model repo and write out config file for ONNX\n",
    "\n",
    "if USE_GPU:\n",
    "    from skl2onnx import convert_sklearn\n",
    "    from skl2onnx.common.data_types import FloatTensorType\n",
    "    onnx_name = 'onnx_model'\n",
    "    onnx_dir = os.path.join(MODEL_REPO, onnx_name)\n",
    "    onnx_versioned_dir = os.path.join(onnx_dir, '1')\n",
    "\n",
    "    os.makedirs(onnx_versioned_dir, exist_ok=True)\n",
    "\n",
    "    onnx_path = os.path.join(onnx_versioned_dir, 'model.onnx')\n",
    "\n",
    "    onnx_model = convert_sklearn(\n",
    "        skl_model,\n",
    "        initial_types=[('input', FloatTensorType([None, NUM_FEATURES]))],\n",
    "        target_opset=12,\n",
    "        options={'zipmap': False}\n",
    "    )\n",
    "    outputs = {output.name: output for output in onnx_model.graph.output}\n",
    "    onnx_model.graph.output.remove(outputs['label'])\n",
    "    with open(onnx_path, 'wb') as file_:\n",
    "        file_.write(onnx_model.SerializeToString())\n",
    "\n",
    "    config_text = f\"\"\"platform: \"onnxruntime_onnx\",\n",
    "max_batch_size: {max_batch_size}\n",
    "input [                                 \n",
    " {{  \n",
    "    name: \"input\"\n",
    "    data_type: TYPE_FP32\n",
    "    dims: [ {NUM_FEATURES} ]                    \n",
    "  }} \n",
    "]\n",
    "output [\n",
    " {{\n",
    "    name: \"probabilities\"\n",
    "    data_type: TYPE_FP32\n",
    "    dims: [ 2 ]\n",
    "  }}\n",
    "]\n",
    "instance_group [{{ kind: {instance_kind} }}]\n",
    "parameters [\n",
    "  {{\n",
    "    key: \"intra_op_thread_count\"\n",
    "    value: {{ string_value: \"8\" }}\n",
    "  }},\n",
    "  {{\n",
    "    key: \"cudnn_conv_algo_search\"\n",
    "    value: {{ string_value: \"1\" }}\n",
    "  }}\n",
    "]\n",
    "\n",
    "dynamic_batching {{}}\"\"\"\n",
    "\n",
    "    config_path = os.path.join(onnx_dir, 'config.pbtxt')\n",
    "    with open(config_path, 'w') as file_:\n",
    "        file_.write(config_text)\n",
    "\n",
    "    time.sleep(10)"
   ]
  },
  {
   "cell_type": "markdown",
   "id": "a97a4945",
   "metadata": {},
   "source": [
    "Now, let's use `perf_analyzer` to see how each of these models perform under a bit of traffic."
   ]
  },
  {
   "cell_type": "code",
   "execution_count": null,
   "id": "3f4df7be",
   "metadata": {},
   "outputs": [],
   "source": [
    "if USE_GPU and is_triton_ready():\n",
    "    !perf_analyzer -m {fil_name} -i GRPC --concurrency-range 16:16\n",
    "    !perf_analyzer -m {onnx_name} -i GRPC --concurrency-range 16:16"
   ]
  },
  {
   "cell_type": "markdown",
   "id": "049d74e1",
   "metadata": {},
   "source": [
    "Your exact results will depend on available hardware, but on the GPU used to test this notebook, we see that FIL offers about 5x the throughput with about 5x better average latency and about 20x better p99 latency. As server load and client batch size grow, FIL's relative advantage over ONNX in both throughput and latency continue to increase. [^](#Table-of-Contents)"
   ]
  },
  {
   "cell_type": "code",
   "execution_count": null,
   "id": "17b66ec7",
   "metadata": {},
   "outputs": [],
   "source": [
    "if USE_GPU and is_triton_ready():\n",
    "    !perf_analyzer -m {fil_name} -i GRPC --concurrency-range 16:16 -b 128\n",
    "    !perf_analyzer -m {onnx_name} -i GRPC --concurrency-range 16:16 -b 128"
   ]
  },
  {
   "cell_type": "markdown",
   "id": "5697140c",
   "metadata": {},
   "source": [
    "# FAQ 11: How do I submit many inference requests in parallel?\n",
    "Because of the overhead of transferring an input array over the network, it is possible to achieve a significant performance improvement by submitting multiple requests in parallel. In this way, network transfer overlaps with inference, and the model can begin processing some samples while others are still being transferred.\n",
    "\n",
    "In the following example, we will make use of the `async_infer` method of the Triton Python client to break a large batch up into chunks and submit them concurrently. Correctly selecting a chunk size that results in improved performance depends on a number of factors. It is often best to proceed empirically, testing a range of chunks to find an optimum for your application. [^](#Table-of-Contents)"
   ]
  },
  {
   "cell_type": "markdown",
   "id": "b9bf4960",
   "metadata": {},
   "source": [
    "# Example 11: Submitting requests in parallel with the Python client\n",
    "In this example, we will try processing a number of samples equal to the selected `max_batch_size` in two different ways. In the first, we will submit the entire dataset at once. In the second, we will break the dataset into 5 chunks and submit them asynchronously. In each case, we will look at how long it took to process the entire dataset.\n",
    "\n",
    "The results of this experiment will vary depending on hardware and your model details, so you may try experimenting with the number of chunks to find an optimum for your deployment."
   ]
  },
  {
   "cell_type": "code",
   "execution_count": null,
   "id": "ba86ed5f",
   "metadata": {},
   "outputs": [],
   "source": [
    "NUM_CHUNKS = 5"
   ]
  },
  {
   "cell_type": "code",
   "execution_count": null,
   "id": "b2163c3a",
   "metadata": {},
   "outputs": [],
   "source": [
    "import concurrent.futures\n",
    "\n",
    "def triton_predict_async(model_name, arr):\n",
    "    triton_input = triton_grpc.InferInput('input__0', arr.shape, 'FP32')\n",
    "    triton_input.set_data_from_numpy(arr)\n",
    "    triton_output = triton_grpc.InferRequestedOutput('output__0')\n",
    "    \n",
    "    future_result = concurrent.futures.Future()\n",
    "    \n",
    "    def callback(result, error):\n",
    "        if error is None:\n",
    "            future_result.set_result(result.as_numpy('output__0'))\n",
    "        else:\n",
    "            future_result.set_exception(error)\n",
    "    \n",
    "    client.async_infer(\n",
    "        model_name,\n",
    "        model_version='1',\n",
    "        inputs=[triton_input],\n",
    "        outputs=[triton_output],\n",
    "        callback=callback\n",
    "    )\n",
    "    return future_result"
   ]
  },
  {
   "cell_type": "code",
   "execution_count": null,
   "id": "9040051c",
   "metadata": {},
   "outputs": [],
   "source": [
    "large_input = np.random.rand(max_batch_size, NUM_FEATURES).astype('float32')\n",
    "chunks = np.array_split(large_input, NUM_CHUNKS)"
   ]
  },
  {
   "cell_type": "code",
   "execution_count": null,
   "id": "1f783448",
   "metadata": {},
   "outputs": [],
   "source": [
    "%%timeit\n",
    "triton_predict(MODEL_NAME, large_input)"
   ]
  },
  {
   "cell_type": "code",
   "execution_count": null,
   "id": "15414d3d",
   "metadata": {},
   "outputs": [],
   "source": [
    "%%timeit\n",
    "concurrent.futures.wait([triton_predict_async(MODEL_NAME, chunk_) for chunk_ in chunks])"
   ]
  },
  {
   "cell_type": "markdown",
   "id": "90990473",
   "metadata": {},
   "source": [
    "Again, your results may vary depending on hardware and model, but for the configuration used while testing this notebook, splitting the data into 5 chunks in order to overlap transfer and data processing resulted in an approximately 2x speedup. [^](#Table-of-Contents)"
   ]
  },
  {
   "attachments": {},
   "cell_type": "markdown",
   "id": "b7b318b9",
   "metadata": {},
   "source": [
    "# $\\color{#76b900}{\\text{FAQ 12: How do I retrieve Shapley values for model explainability?}}$\n",
    "\n",
    "The FIL backend allows models to return [Shapley values](https://en.wikipedia.org/wiki/Shapley_value) for each feature in order to explain which features were most important in the model's decision. By configuring the model with an extra output, we will get Shapley values along with the main prediction output. This extra output must have the name `treeshap_output`, and its size should be equal to the number of features plus one, where the final extra column stores a \"bias\" term.\n",
    "\n",
    "Because of the increased latency from transferring such a large output array, always computing and returning Shapley values may have an undesirable impact on latency. When model explainability is required however, this additional output can provide powerful insight on how your model comes to its decisions for any given input. [^](#Table-of-Contents)\n",
    "\n",
    "\n",
    "<div class=\"alert alert-block alert-info\">\n",
    "<b>VERSION NOTE:</b> GPU Shapley value support was added with version 22.03 of the FIL backend.\n",
    "</div>\n",
    "<div class=\"alert alert-block alert-warning\">\n",
    "    <b>NOTE:</b> Experimental support for CPU Shapley values has been added in version 23.04.\n",
    "</div>"
   ]
  },
  {
   "cell_type": "markdown",
   "id": "cddbd34a",
   "metadata": {},
   "source": [
    "# $\\color{#76b900}{\\text{Example 12: Retrieving Shapley Values}}$\n",
    "In order to have the FIL backend compute and return Shapley values, we simply add an additional output to the `config.pbtxt` file for that model with the correct number of dimensions. For instance, if our model has 500 input features, we would add the following output entry:\n",
    "\n",
    "```pbtxt\n",
    " {\n",
    "    name: \"treeshap_output\"\n",
    "    data_type: TYPE_FP32\n",
    "    dims: [ 501 ]\n",
    "  }\n",
    "```\n",
    "\n",
    "Let's try this now with our example model."
   ]
  },
  {
   "cell_type": "code",
   "execution_count": null,
   "id": "bf0d177a",
   "metadata": {},
   "outputs": [],
   "source": [
    "shap_dim = NUM_FEATURES + 1\n",
    "\n",
    "config_text = f\"\"\"backend: \"fil\",\n",
    "max_batch_size: {max_batch_size}\n",
    "input [                                 \n",
    " {{  \n",
    "    name: \"input__0\"\n",
    "    data_type: TYPE_FP32\n",
    "    dims: [ {NUM_FEATURES} ]                    \n",
    "  }} \n",
    "]\n",
    "output [\n",
    " {{\n",
    "    name: \"output__0\"\n",
    "    data_type: TYPE_FP32\n",
    "    dims: [ 1 ]\n",
    "  }},\n",
    " {{\n",
    "    name: \"treeshap_output\"\n",
    "    data_type: TYPE_FP32\n",
    "    dims: [ {shap_dim} ]\n",
    "  }}\n",
    "]\n",
    "instance_group [{{ kind: {instance_kind} }}]\n",
    "parameters [\n",
    "  {{\n",
    "    key: \"model_type\"\n",
    "    value: {{ string_value: \"{model_format}\" }}\n",
    "  }},\n",
    "  {{\n",
    "    key: \"predict_proba\"\n",
    "    value: {{ string_value: \"false\" }}\n",
    "  }},\n",
    "  {{\n",
    "    key: \"output_class\"\n",
    "    value: {{ string_value: \"{classifier_string}\" }}\n",
    "  }},\n",
    "  {{\n",
    "    key: \"threshold\"\n",
    "    value: {{ string_value: \"0.5\" }}\n",
    "  }},\n",
    "  {{\n",
    "    key: \"storage_type\"\n",
    "    value: {{ string_value: \"AUTO\" }}\n",
    "  }},\n",
    "  {{\n",
    "    key: \"algo\"\n",
    "    value: {{ string_value: \"TREE_REORG\" }}\n",
    "  }},\n",
    "  {{\n",
    "    key: \"blocks_per_sm\"\n",
    "    value: {{ string_value: \"0\" }}\n",
    "  }},\n",
    "  {{\n",
    "    key: \"use_experimental_optimizations\"\n",
    "    value: {{ string_value: \"true\" }}\n",
    "  }}\n",
    "]\n",
    "\n",
    "dynamic_batching {{}}\"\"\"\n",
    "\n",
    "config_path = os.path.join(MODEL_DIR, 'config.pbtxt')\n",
    "with open(config_path, 'w') as file_:\n",
    "    file_.write(config_text)\n",
    "time.sleep(10)"
   ]
  },
  {
   "cell_type": "markdown",
   "id": "64edee4c",
   "metadata": {},
   "source": [
    "To make use of this new output, we will need to slightly adjust how we use the Python client to submit requests. The following function will allow us to retrieve the Shapley values in addition to the usual model output. [^](#Table-of-Contents)"
   ]
  },
  {
   "cell_type": "code",
   "execution_count": null,
   "id": "38c612a9",
   "metadata": {},
   "outputs": [],
   "source": [
    "def triton_predict_shap(model_name, arr):\n",
    "    triton_input = triton_grpc.InferInput('input__0', arr.shape, 'FP32')\n",
    "    triton_input.set_data_from_numpy(arr)\n",
    "    triton_output = triton_grpc.InferRequestedOutput('output__0')\n",
    "    triton_shap_output = triton_grpc.InferRequestedOutput('treeshap_output')\n",
    "    response = client.infer(model_name, model_version='1', inputs=[triton_input], outputs=[triton_output, triton_shap_output])\n",
    "    return (response.as_numpy('output__0'), response.as_numpy('treeshap_output'))"
   ]
  },
  {
   "cell_type": "code",
   "execution_count": null,
   "id": "c8378d72",
   "metadata": {},
   "outputs": [],
   "source": [
    "if is_triton_ready():\n",
    "    batch = convert_to_numpy(X[0:2])\n",
    "\n",
    "    output, shap_out = triton_predict_shap(MODEL_NAME, batch)\n",
    "    print(\"The model output for these samples was: \")\n",
    "    print(output)\n",
    "    print(\"\\nThe Shapley values for these samples were: \")\n",
    "    print(shap_out)\n",
    "    print(\"\\n The most significant feature for each sample was: \")\n",
    "    print(np.argmax(shap_out, axis=1))"
   ]
  },
  {
   "cell_type": "markdown",
   "id": "790bafdd-06ba-446e-a996-699829b6fbe9",
   "metadata": {},
   "source": [
    "# FAQ 13: How do I serve a learning-to-rank model?"
   ]
  },
  {
   "cell_type": "markdown",
   "id": "1f5901fe-baf9-4156-9aec-de63413264ae",
   "metadata": {},
   "source": [
    "Learning-to-rank models are treated as regression models in the FIL backend. In the configuration file, make sure to set `output_class=\"false\"`.\n",
    "\n",
    "If the learning-to-rank model was trained with dense data, no extra preperation is needed. As in Example 13.2, you can obtain predictions just like other regression models.\n",
    "\n",
    "Special care is needed when the learning-to-rank model was trained with sparse data. Since the FIL backend does not yet support a sparse input, we need to use an equivalent dense input instead. Example 13.3 shows how to convert a sparse input into an equivalent dense input. [^](#Table-of-Contents)"
   ]
  },
  {
   "cell_type": "markdown",
   "id": "05c9c398-c960-4318-99c1-4f7101b99f63",
   "metadata": {},
   "source": [
    "# Example 13.1: Configuring an XGBoost ranking model in the FIL backend"
   ]
  },
  {
   "cell_type": "code",
   "execution_count": null,
   "id": "4a41b760-8c9a-4d79-94c2-ae6996edbc26",
   "metadata": {},
   "outputs": [],
   "source": [
    "config_text = f\"\"\"backend: \"fil\",\n",
    "max_batch_size: {max_batch_size}\n",
    "input [\n",
    " {{  \n",
    "    name: \"input__0\"\n",
    "    data_type: TYPE_FP32\n",
    "    dims: [ {NUM_FEATURES} ]\n",
    "  }}\n",
    "]\n",
    "output [\n",
    " {{\n",
    "    name: \"output__0\"\n",
    "    data_type: TYPE_FP32\n",
    "    dims: [ 1 ]\n",
    "  }}\n",
    "]\n",
    "instance_group [{{ kind: {instance_kind} }}]\n",
    "parameters [\n",
    "  {{\n",
    "    key: \"model_type\"\n",
    "    value: {{ string_value: \"xgboost_json\" }}\n",
    "  }},\n",
    "  {{\n",
    "    key: \"output_class\"\n",
    "    value: {{ string_value: \"false\" }}\n",
    "  }}\n",
    "]\n",
    "\n",
    "dynamic_batching {{}}\"\"\"\n",
    "\n",
    "config_path = os.path.join(MODEL_DIR, 'config.pbtxt')\n",
    "with open(config_path, 'w') as file_:\n",
    "    file_.write(config_text)\n",
    "time.sleep(10)"
   ]
  },
  {
   "cell_type": "markdown",
   "id": "30772dbb-845a-4964-8c08-618f5998a971",
   "metadata": {},
   "source": [
    "# Example 13.2: Running inferece with an XGBoost ranking model and a dense input"
   ]
  },
  {
   "cell_type": "code",
   "execution_count": null,
   "id": "bc8e1401-851f-407d-90ee-70cdf4d71d9a",
   "metadata": {},
   "outputs": [],
   "source": [
    "triton_result = triton_predict(MODEL_NAME, X_test)  # X_test is a NumPy array"
   ]
  },
  {
   "cell_type": "markdown",
   "id": "c0993c1a-a510-4958-9e2c-e2f9d3f4856e",
   "metadata": {},
   "source": [
    "# Example 13.3: Running inferece with an XGBoost ranking model and a sparse input"
   ]
  },
  {
   "cell_type": "markdown",
   "id": "771525a1-1747-4b83-9c47-2456c50f6384",
   "metadata": {},
   "source": [
    "In the sparse matrix, zeros are synonymous with the missing values, whereas in the dense array, zeros are distinct from the missing values. So to achieve a consistent behavior, do the following:\n",
    "1. Convert the sparse matrix to a dense NumPy array, by calling `toarray()` method.\n",
    "2. Replace zeros with `np.nan` (missing value)."
   ]
  },
  {
   "cell_type": "code",
   "execution_count": null,
   "id": "55d8fa91-ada4-4939-a5f0-8dd4debf607a",
   "metadata": {},
   "outputs": [],
   "source": [
    "from sklearn.datasets import load_svmlight_file\n",
    "\n",
    "X_test, y_test = load_svmlight_file(\"data.libsvm\")\n",
    "# X_test is scipy.sparse.csr_matrix type\n",
    "# Since Triton client only accepts NumPy arrays as inputs, convert it to NumPy array.\n",
    "X_test = X_test.toarray()\n",
    "X_test[X_test == 0] = np.nan  # Replace zero with np.nan\n",
    "\n",
    "# Now X_test can be passed to triton_predict().\n",
    "triton_result = triton_predict(MODEL_NAME, X_test)"
   ]
  },
  {
   "cell_type": "markdown",
   "id": "d56810d0",
   "metadata": {},
   "source": [
    "# Cleanup\n",
    "We will finish up by taking down the server container."
   ]
  },
  {
   "cell_type": "code",
   "execution_count": null,
   "id": "5270f694",
   "metadata": {},
   "outputs": [],
   "source": [
    "!docker rm -f tritonserver"
   ]
  },
  {
   "cell_type": "markdown",
   "id": "30a6c3be",
   "metadata": {},
   "source": [
    "# Conclusion\n",
    "\n",
    "By combining pieces from each of the code examples provided in this notebook, you should be able to handle most common tasks involved with deploying and making use of a model with the FIL backend for Triton. If you have additional questions, please consider [submitting an issue](https://github.com/triton-inference-server/fil_backend/issues/new) on Github, and we may be able to add an entry to this notebook to cover your specific use case.\n",
    "\n",
    "For more information on anything covered in this notebook, we recommend checking out the [FIL backend documentation](https://github.com/triton-inference-server/fil_backend#triton-inference-server-fil-backend) the introductory [FIL example notebook](https://github.com/triton-inference-server/fil_backend/tree/main/notebooks/categorical-fraud-detection#fraud-detection-with-categorical-xgboost), and [Triton's documentation](https://github.com/triton-inference-server/server/blob/main/README.md#documentation). [^](#Table-of-Contents)"
   ]
  }
 ],
 "metadata": {
  "kernelspec": {
   "display_name": "Python 3 (ipykernel)",
   "language": "python",
   "name": "python3"
  },
  "language_info": {
   "codemirror_mode": {
    "name": "ipython",
    "version": 3
   },
   "file_extension": ".py",
   "mimetype": "text/x-python",
   "name": "python",
   "nbconvert_exporter": "python",
   "pygments_lexer": "ipython3",
   "version": "3.8.15"
  }
 },
 "nbformat": 4,
 "nbformat_minor": 5
}
